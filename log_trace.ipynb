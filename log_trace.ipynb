{
  "nbformat": 4,
  "nbformat_minor": 0,
  "metadata": {
    "colab": {
      "provenance": [],
      "gpuType": "T4",
      "toc_visible": true,
      "authorship_tag": "ABX9TyP1NLrfdgnD6G/3KEj65J5L",
      "include_colab_link": true
    },
    "kernelspec": {
      "name": "python3",
      "display_name": "Python 3"
    },
    "language_info": {
      "name": "python"
    },
    "accelerator": "GPU"
  },
  "cells": [
    {
      "cell_type": "markdown",
      "metadata": {
        "id": "view-in-github",
        "colab_type": "text"
      },
      "source": [
        "<a href=\"https://colab.research.google.com/github/septembermoon7/Inter-case/blob/main/log_trace.ipynb\" target=\"_parent\"><img src=\"https://colab.research.google.com/assets/colab-badge.svg\" alt=\"Open In Colab\"/></a>"
      ]
    },
    {
      "cell_type": "code",
      "execution_count": 1,
      "metadata": {
        "colab": {
          "base_uri": "https://localhost:8080/"
        },
        "id": "t8wv2HatJPTX",
        "outputId": "925823e0-3cec-46bf-e083-028676d67067"
      },
      "outputs": [
        {
          "output_type": "stream",
          "name": "stdout",
          "text": [
            "Requirement already satisfied: torch in /usr/local/lib/python3.10/dist-packages (2.5.0+cu121)\n",
            "Collecting torchmetrics\n",
            "  Downloading torchmetrics-1.5.1-py3-none-any.whl.metadata (20 kB)\n",
            "Requirement already satisfied: filelock in /usr/local/lib/python3.10/dist-packages (from torch) (3.16.1)\n",
            "Requirement already satisfied: typing-extensions>=4.8.0 in /usr/local/lib/python3.10/dist-packages (from torch) (4.12.2)\n",
            "Requirement already satisfied: networkx in /usr/local/lib/python3.10/dist-packages (from torch) (3.4.2)\n",
            "Requirement already satisfied: jinja2 in /usr/local/lib/python3.10/dist-packages (from torch) (3.1.4)\n",
            "Requirement already satisfied: fsspec in /usr/local/lib/python3.10/dist-packages (from torch) (2024.6.1)\n",
            "Requirement already satisfied: sympy==1.13.1 in /usr/local/lib/python3.10/dist-packages (from torch) (1.13.1)\n",
            "Requirement already satisfied: mpmath<1.4,>=1.1.0 in /usr/local/lib/python3.10/dist-packages (from sympy==1.13.1->torch) (1.3.0)\n",
            "Requirement already satisfied: numpy<2.0,>1.20.0 in /usr/local/lib/python3.10/dist-packages (from torchmetrics) (1.26.4)\n",
            "Requirement already satisfied: packaging>17.1 in /usr/local/lib/python3.10/dist-packages (from torchmetrics) (24.1)\n",
            "Collecting lightning-utilities>=0.8.0 (from torchmetrics)\n",
            "  Downloading lightning_utilities-0.11.8-py3-none-any.whl.metadata (5.2 kB)\n",
            "Requirement already satisfied: setuptools in /usr/local/lib/python3.10/dist-packages (from lightning-utilities>=0.8.0->torchmetrics) (75.1.0)\n",
            "Requirement already satisfied: MarkupSafe>=2.0 in /usr/local/lib/python3.10/dist-packages (from jinja2->torch) (3.0.2)\n",
            "Downloading torchmetrics-1.5.1-py3-none-any.whl (890 kB)\n",
            "\u001b[2K   \u001b[90m━━━━━━━━━━━━━━━━━━━━━━━━━━━━━━━━━━━━━━━━\u001b[0m \u001b[32m890.6/890.6 kB\u001b[0m \u001b[31m9.7 MB/s\u001b[0m eta \u001b[36m0:00:00\u001b[0m\n",
            "\u001b[?25hDownloading lightning_utilities-0.11.8-py3-none-any.whl (26 kB)\n",
            "Installing collected packages: lightning-utilities, torchmetrics\n",
            "Successfully installed lightning-utilities-0.11.8 torchmetrics-1.5.1\n"
          ]
        }
      ],
      "source": [
        "!pip3 install torch torchmetrics"
      ]
    },
    {
      "cell_type": "code",
      "source": [
        "import pandas as pd\n",
        "import numpy as np\n",
        "import torch\n",
        "import torch.nn as nn\n",
        "import torch.nn.functional as F\n",
        "import random\n",
        "from torch.utils.data import TensorDataset, random_split, DataLoader\n",
        "import torch.optim as optim"
      ],
      "metadata": {
        "id": "oLyrwM4QJcZn"
      },
      "execution_count": 2,
      "outputs": []
    },
    {
      "cell_type": "code",
      "source": [
        "from preprocessing import sort_log, debiasing, create_time_features, mapping_case_id, add_soc_eoc\n",
        "from preprocessing import train_mapping_event_name, test_mapping_event_name, train_standardize, test_standardize\n",
        "from train_test_split import create_table_without_discard_case, get_train_test_split_point\n",
        "from create_prefix_suffix import create_log_prefix_tensor, create_trace_prefix_tensor, create_trace_suffix_tensor\n",
        "from create_encoder_decoder import Encoder, Decoder, Seq2Seq_one_input, Seq2Seq_cat, Seq2Seq_add, Seq2Seq_mul, normalized_DL_distance"
      ],
      "metadata": {
        "id": "cl15hufLvYcp"
      },
      "execution_count": null,
      "outputs": []
    },
    {
      "cell_type": "markdown",
      "source": [
        "# Create training dataloader pipeline\n",
        "Identical with the steps in the function create_train_valid_dataloader"
      ],
      "metadata": {
        "id": "pFGhCeUYu8rg"
      }
    },
    {
      "cell_type": "code",
      "source": [
        "# Define parameters\n",
        "csv_path = 'cases2000.csv'\n",
        "end_date = '2017-01'\n",
        "max_duration = 47.81\n",
        "test_ratio = 0.1\n",
        "validation_ratio = 0.1\n",
        "log_prefix_length = 30\n",
        "trace_prefix_length = 15\n",
        "trace_suffix_length = 35\n",
        "num_act = 28 # number of activity labels in training set: 24"
      ],
      "metadata": {
        "id": "IfxhLnpzwXri"
      },
      "execution_count": null,
      "outputs": []
    },
    {
      "cell_type": "code",
      "source": [
        "set_name = 'train'\n",
        "log_col_name = ['concept:name', 'log_ts_pre']\n",
        "trace_prefix_col_name = ['concept:name', 'trace_ts_pre', 'trace_ts_start']\n",
        "trace_suffix_col_name = ['concept:name', 'trace_ts_pre']\n",
        "categorical_features = ['concept:name']\n",
        "continuous_features = ['log_ts_pre', 'trace_ts_pre', 'trace_ts_start']\n",
        "case_id = 'case:concept:name'\n",
        "timestamp = 'time:timestamp'\n",
        "event_name = 'concept:name'\n",
        "event_idx = 'event_idx'"
      ],
      "metadata": {
        "id": "EVnLNA2gvB42"
      },
      "execution_count": null,
      "outputs": []
    },
    {
      "cell_type": "code",
      "source": [
        "# 1. Tranform csv to dataframe\n",
        "df = pd.read_csv(csv_path)\n",
        "print(df.info())"
      ],
      "metadata": {
        "colab": {
          "base_uri": "https://localhost:8080/"
        },
        "id": "JFvvbYPHviJc",
        "outputId": "0a815aae-0cf5-45b3-aa53-33f0417d40cd"
      },
      "execution_count": null,
      "outputs": [
        {
          "output_type": "stream",
          "name": "stdout",
          "text": [
            "<class 'pandas.core.frame.DataFrame'>\n",
            "RangeIndex: 79917 entries, 0 to 79916\n",
            "Data columns (total 4 columns):\n",
            " #   Column             Non-Null Count  Dtype \n",
            "---  ------             --------------  ----- \n",
            " 0   Unnamed: 0         79917 non-null  int64 \n",
            " 1   case:concept:name  79917 non-null  object\n",
            " 2   time:timestamp     79917 non-null  object\n",
            " 3   concept:name       79917 non-null  object\n",
            "dtypes: int64(1), object(3)\n",
            "memory usage: 2.4+ MB\n",
            "None\n"
          ]
        }
      ]
    },
    {
      "cell_type": "code",
      "source": [
        "print(\"Number of cases:\", df[case_id].nunique())\n",
        "print(\"Number of activity labels:\", df[event_name].nunique())"
      ],
      "metadata": {
        "colab": {
          "base_uri": "https://localhost:8080/"
        },
        "id": "NrzQQd8HvnmE",
        "outputId": "57d088fb-a6af-441d-ca63-5a50223409c4"
      },
      "execution_count": null,
      "outputs": [
        {
          "output_type": "stream",
          "name": "stdout",
          "text": [
            "Number of cases: 2000\n",
            "Number of activity labels: 24\n"
          ]
        }
      ]
    },
    {
      "cell_type": "code",
      "source": [
        "# 2. Debiasing and cleaning\n",
        "# df = debiasing(df, end_date, max_duration,\n",
        "#               case_id, timestamp)"
      ],
      "metadata": {
        "id": "Dw6eG_60ighe"
      },
      "execution_count": null,
      "outputs": []
    },
    {
      "cell_type": "code",
      "source": [
        "# 3. Sort dataframe by timestamp\n",
        "df = sort_log(df,\n",
        "              timestamp)"
      ],
      "metadata": {
        "id": "mUm6ThK2wDXA"
      },
      "execution_count": null,
      "outputs": []
    },
    {
      "cell_type": "code",
      "source": [
        "# 4. Get rid of discard case\n",
        "df_no_discard = create_table_without_discard_case(df, test_ratio,\n",
        "                                                  case_id, timestamp)\n",
        "print(df_no_discard.info())\n",
        "print(\"Number of cases:\", df_no_discard[case_id].nunique())\n",
        "print(\"Number of activity labels:\", df_no_discard[event_name].nunique())"
      ],
      "metadata": {
        "colab": {
          "base_uri": "https://localhost:8080/"
        },
        "id": "dbyp5G5awG6H",
        "outputId": "821f3f89-30cd-4648-bffb-dc0c0f3c0596"
      },
      "execution_count": null,
      "outputs": [
        {
          "output_type": "stream",
          "name": "stdout",
          "text": [
            "<class 'pandas.core.frame.DataFrame'>\n",
            "Index: 29908 entries, 0 to 79513\n",
            "Data columns (total 4 columns):\n",
            " #   Column             Non-Null Count  Dtype              \n",
            "---  ------             --------------  -----              \n",
            " 0   Unnamed: 0         29908 non-null  int64              \n",
            " 1   case:concept:name  29908 non-null  object             \n",
            " 2   time:timestamp     29908 non-null  datetime64[ns, UTC]\n",
            " 3   concept:name       29908 non-null  object             \n",
            "dtypes: datetime64[ns, UTC](1), int64(1), object(2)\n",
            "memory usage: 1.1+ MB\n",
            "None\n",
            "Number of cases: 760\n",
            "Number of activity labels: 24\n"
          ]
        }
      ]
    },
    {
      "cell_type": "code",
      "source": [
        "# 5. Subset the dataframe to dataframe before training / test split\n",
        "train_test_split_time, train_test_split_idx = get_train_test_split_point(df, test_ratio,\n",
        "                                                      case_id, timestamp)\n",
        "print(train_test_split_time)\n",
        "print(train_test_split_idx)"
      ],
      "metadata": {
        "colab": {
          "base_uri": "https://localhost:8080/"
        },
        "id": "eZnfogilxNyi",
        "outputId": "5d610b60-5ef4-47e9-d0eb-c36485a08e33"
      },
      "execution_count": null,
      "outputs": [
        {
          "output_type": "stream",
          "name": "stdout",
          "text": [
            "2016-01-26 10:05:22.374000+00:00\n",
            "48102\n"
          ]
        }
      ]
    },
    {
      "cell_type": "code",
      "source": [
        "training_df = df_no_discard[df_no_discard[timestamp] < train_test_split_time]\n",
        "print(training_df.info())\n",
        "print(\"Number of cases:\", training_df[case_id].nunique())\n",
        "print(\"Number of activity labels:\", training_df[event_name].nunique())"
      ],
      "metadata": {
        "colab": {
          "base_uri": "https://localhost:8080/"
        },
        "id": "vhZLij__xX4o",
        "outputId": "6e0b58c0-4f40-406b-b824-2c4219fc8c39"
      },
      "execution_count": null,
      "outputs": [
        {
          "output_type": "stream",
          "name": "stdout",
          "text": [
            "<class 'pandas.core.frame.DataFrame'>\n",
            "Index: 21619 entries, 0 to 48028\n",
            "Data columns (total 4 columns):\n",
            " #   Column             Non-Null Count  Dtype              \n",
            "---  ------             --------------  -----              \n",
            " 0   Unnamed: 0         21619 non-null  int64              \n",
            " 1   case:concept:name  21619 non-null  object             \n",
            " 2   time:timestamp     21619 non-null  datetime64[ns, UTC]\n",
            " 3   concept:name       21619 non-null  object             \n",
            "dtypes: datetime64[ns, UTC](1), int64(1), object(2)\n",
            "memory usage: 844.5+ KB\n",
            "None\n",
            "Number of cases: 560\n",
            "Number of activity labels: 24\n"
          ]
        }
      ]
    },
    {
      "cell_type": "code",
      "source": [
        "# 6. Create time features\n",
        "training_df = create_time_features(training_df, case_id,timestamp)\n",
        "print(training_df.info())\n",
        "print(training_df.head(20))"
      ],
      "metadata": {
        "colab": {
          "base_uri": "https://localhost:8080/"
        },
        "id": "f7RU4CMC9k5C",
        "outputId": "2af3c394-cef0-4be2-914d-bb761b1ad7de"
      },
      "execution_count": null,
      "outputs": [
        {
          "output_type": "stream",
          "name": "stdout",
          "text": [
            "<class 'pandas.core.frame.DataFrame'>\n",
            "RangeIndex: 21619 entries, 0 to 21618\n",
            "Data columns (total 7 columns):\n",
            " #   Column             Non-Null Count  Dtype              \n",
            "---  ------             --------------  -----              \n",
            " 0   Unnamed: 0         21619 non-null  int64              \n",
            " 1   case:concept:name  21619 non-null  object             \n",
            " 2   time:timestamp     21619 non-null  datetime64[ns, UTC]\n",
            " 3   concept:name       21619 non-null  object             \n",
            " 4   log_ts_pre         21619 non-null  float64            \n",
            " 5   trace_ts_pre       21619 non-null  float64            \n",
            " 6   trace_ts_start     21619 non-null  float64            \n",
            "dtypes: datetime64[ns, UTC](1), float64(3), int64(1), object(2)\n",
            "memory usage: 1.2+ MB\n",
            "None\n",
            "    Unnamed: 0       case:concept:name                   time:timestamp  \\\n",
            "0            0   Application_652823628 2016-01-01 09:51:15.304000+00:00   \n",
            "1            1   Application_652823628 2016-01-01 09:51:15.352000+00:00   \n",
            "2            2   Application_652823628 2016-01-01 09:51:15.774000+00:00   \n",
            "3            3   Application_652823628 2016-01-01 09:52:36.392000+00:00   \n",
            "4            4   Application_652823628 2016-01-01 09:52:36.403000+00:00   \n",
            "5            5   Application_652823628 2016-01-01 09:52:36.413000+00:00   \n",
            "6            6  Application_1691306052 2016-01-01 10:16:11.500000+00:00   \n",
            "7            7  Application_1691306052 2016-01-01 10:16:11.549000+00:00   \n",
            "8            8  Application_1691306052 2016-01-01 10:16:11.740000+00:00   \n",
            "9            9  Application_1691306052 2016-01-01 10:17:31.573000+00:00   \n",
            "10          10  Application_1691306052 2016-01-01 10:17:31.584000+00:00   \n",
            "11          11  Application_1691306052 2016-01-01 10:17:31.594000+00:00   \n",
            "12          12   Application_428409768 2016-01-01 11:19:38.177000+00:00   \n",
            "13          13   Application_428409768 2016-01-01 11:19:38.235000+00:00   \n",
            "14          14   Application_428409768 2016-01-01 11:19:38.914000+00:00   \n",
            "15          15   Application_428409768 2016-01-01 11:20:37.391000+00:00   \n",
            "16          16   Application_428409768 2016-01-01 11:20:37.409000+00:00   \n",
            "17          17   Application_428409768 2016-01-01 11:20:37.422000+00:00   \n",
            "18          33  Application_1266995739 2016-01-01 13:22:19.758000+00:00   \n",
            "19          34  Application_1266995739 2016-01-01 13:22:19.796000+00:00   \n",
            "\n",
            "              concept:name  log_ts_pre  trace_ts_pre  trace_ts_start  \n",
            "0     A_Create Application       0.000         0.000           0.000  \n",
            "1              A_Submitted       0.048         0.048           0.048  \n",
            "2           W_Handle leads       0.422         0.422           0.470  \n",
            "3           W_Handle leads      80.618        80.618          81.088  \n",
            "4   W_Complete application       0.011         0.011          81.099  \n",
            "5                A_Concept       0.010         0.010          81.109  \n",
            "6     A_Create Application    1415.087         0.000           0.000  \n",
            "7              A_Submitted       0.049         0.049           0.049  \n",
            "8           W_Handle leads       0.191         0.191           0.240  \n",
            "9           W_Handle leads      79.833        79.833          80.073  \n",
            "10  W_Complete application       0.011         0.011          80.084  \n",
            "11               A_Concept       0.010         0.010          80.094  \n",
            "12    A_Create Application    3726.583         0.000           0.000  \n",
            "13             A_Submitted       0.058         0.058           0.058  \n",
            "14          W_Handle leads       0.679         0.679           0.737  \n",
            "15          W_Handle leads      58.477        58.477          59.214  \n",
            "16  W_Complete application       0.018         0.018          59.232  \n",
            "17               A_Concept       0.013         0.013          59.245  \n",
            "18    A_Create Application    7302.336         0.000           0.000  \n",
            "19             A_Submitted       0.038         0.038           0.038  \n"
          ]
        }
      ]
    },
    {
      "cell_type": "code",
      "source": [
        "# 7. Standardize time features\n",
        "training_df, mean_dict, std_dict = train_standardize(training_df,\n",
        "                                                     continuous_features)\n",
        "print(training_df.head(20))\n",
        "print(mean_dict)\n",
        "print(std_dict)"
      ],
      "metadata": {
        "colab": {
          "base_uri": "https://localhost:8080/"
        },
        "id": "i9MNzB3BjTJB",
        "outputId": "af02c621-ac34-4034-f095-1b1646e881b8"
      },
      "execution_count": null,
      "outputs": [
        {
          "output_type": "stream",
          "name": "stdout",
          "text": [
            "    Unnamed: 0       case:concept:name                   time:timestamp  \\\n",
            "0            0   Application_652823628 2016-01-01 09:51:15.304000+00:00   \n",
            "1            1   Application_652823628 2016-01-01 09:51:15.352000+00:00   \n",
            "2            2   Application_652823628 2016-01-01 09:51:15.774000+00:00   \n",
            "3            3   Application_652823628 2016-01-01 09:52:36.392000+00:00   \n",
            "4            4   Application_652823628 2016-01-01 09:52:36.403000+00:00   \n",
            "5            5   Application_652823628 2016-01-01 09:52:36.413000+00:00   \n",
            "6            6  Application_1691306052 2016-01-01 10:16:11.500000+00:00   \n",
            "7            7  Application_1691306052 2016-01-01 10:16:11.549000+00:00   \n",
            "8            8  Application_1691306052 2016-01-01 10:16:11.740000+00:00   \n",
            "9            9  Application_1691306052 2016-01-01 10:17:31.573000+00:00   \n",
            "10          10  Application_1691306052 2016-01-01 10:17:31.584000+00:00   \n",
            "11          11  Application_1691306052 2016-01-01 10:17:31.594000+00:00   \n",
            "12          12   Application_428409768 2016-01-01 11:19:38.177000+00:00   \n",
            "13          13   Application_428409768 2016-01-01 11:19:38.235000+00:00   \n",
            "14          14   Application_428409768 2016-01-01 11:19:38.914000+00:00   \n",
            "15          15   Application_428409768 2016-01-01 11:20:37.391000+00:00   \n",
            "16          16   Application_428409768 2016-01-01 11:20:37.409000+00:00   \n",
            "17          17   Application_428409768 2016-01-01 11:20:37.422000+00:00   \n",
            "18          33  Application_1266995739 2016-01-01 13:22:19.758000+00:00   \n",
            "19          34  Application_1266995739 2016-01-01 13:22:19.796000+00:00   \n",
            "\n",
            "              concept:name  log_ts_pre  trace_ts_pre  trace_ts_start  \n",
            "0     A_Create Application   -0.067118     -0.266169       -1.054783  \n",
            "1              A_Submitted   -0.067086     -0.266168       -1.054783  \n",
            "2           W_Handle leads   -0.066834     -0.266164       -1.054782  \n",
            "3           W_Handle leads   -0.012960     -0.265198       -1.054590  \n",
            "4   W_Complete application   -0.067110     -0.266168       -1.054590  \n",
            "5                A_Concept   -0.067111     -0.266168       -1.054590  \n",
            "6     A_Create Application    0.883512     -0.266169       -1.054783  \n",
            "7              A_Submitted   -0.067085     -0.266168       -1.054783  \n",
            "8           W_Handle leads   -0.066990     -0.266166       -1.054783  \n",
            "9           W_Handle leads   -0.013487     -0.265207       -1.054593  \n",
            "10  W_Complete application   -0.067110     -0.266168       -1.054593  \n",
            "11               A_Concept   -0.067111     -0.266168       -1.054593  \n",
            "12    A_Create Application    2.436334     -0.266169       -1.054783  \n",
            "13             A_Submitted   -0.067079     -0.266168       -1.054783  \n",
            "14          W_Handle leads   -0.066662     -0.266160       -1.054781  \n",
            "15          W_Handle leads   -0.027834     -0.265464       -1.054642  \n",
            "16  W_Complete application   -0.067106     -0.266168       -1.054642  \n",
            "17               A_Concept   -0.067109     -0.266168       -1.054642  \n",
            "18    A_Create Application    4.838460     -0.266169       -1.054783  \n",
            "19             A_Submitted   -0.067092     -0.266168       -1.054783  \n",
            "{'log_ts_pre': 99.91015366113142, 'trace_ts_pre': 22103.32505601554, 'trace_ts_start': 443168.92122572736}\n",
            "{'log_ts_pre': 1488.5781380673454, 'trace_ts_pre': 83042.57459728209, 'trace_ts_start': 420151.6909470575}\n"
          ]
        }
      ]
    },
    {
      "cell_type": "code",
      "source": [
        "# 8. Map case ID to numbers\n",
        "training_df, case_id_dict= mapping_case_id(training_df,\n",
        "                                     case_id)\n",
        "print(len(case_id_dict))\n",
        "print(training_df.head(20))"
      ],
      "metadata": {
        "colab": {
          "base_uri": "https://localhost:8080/"
        },
        "id": "bchIX4N198He",
        "outputId": "9ecebcc7-12de-4033-d7ad-342cf5ca2200"
      },
      "execution_count": null,
      "outputs": [
        {
          "output_type": "stream",
          "name": "stdout",
          "text": [
            "560\n",
            "    Unnamed: 0  case:concept:name                   time:timestamp  \\\n",
            "0            0                  1 2016-01-01 09:51:15.304000+00:00   \n",
            "1            1                  1 2016-01-01 09:51:15.352000+00:00   \n",
            "2            2                  1 2016-01-01 09:51:15.774000+00:00   \n",
            "3            3                  1 2016-01-01 09:52:36.392000+00:00   \n",
            "4            4                  1 2016-01-01 09:52:36.403000+00:00   \n",
            "5            5                  1 2016-01-01 09:52:36.413000+00:00   \n",
            "6            6                  2 2016-01-01 10:16:11.500000+00:00   \n",
            "7            7                  2 2016-01-01 10:16:11.549000+00:00   \n",
            "8            8                  2 2016-01-01 10:16:11.740000+00:00   \n",
            "9            9                  2 2016-01-01 10:17:31.573000+00:00   \n",
            "10          10                  2 2016-01-01 10:17:31.584000+00:00   \n",
            "11          11                  2 2016-01-01 10:17:31.594000+00:00   \n",
            "12          12                  3 2016-01-01 11:19:38.177000+00:00   \n",
            "13          13                  3 2016-01-01 11:19:38.235000+00:00   \n",
            "14          14                  3 2016-01-01 11:19:38.914000+00:00   \n",
            "15          15                  3 2016-01-01 11:20:37.391000+00:00   \n",
            "16          16                  3 2016-01-01 11:20:37.409000+00:00   \n",
            "17          17                  3 2016-01-01 11:20:37.422000+00:00   \n",
            "18          33                  4 2016-01-01 13:22:19.758000+00:00   \n",
            "19          34                  4 2016-01-01 13:22:19.796000+00:00   \n",
            "\n",
            "              concept:name  log_ts_pre  trace_ts_pre  trace_ts_start  \n",
            "0     A_Create Application   -0.067118     -0.266169       -1.054783  \n",
            "1              A_Submitted   -0.067086     -0.266168       -1.054783  \n",
            "2           W_Handle leads   -0.066834     -0.266164       -1.054782  \n",
            "3           W_Handle leads   -0.012960     -0.265198       -1.054590  \n",
            "4   W_Complete application   -0.067110     -0.266168       -1.054590  \n",
            "5                A_Concept   -0.067111     -0.266168       -1.054590  \n",
            "6     A_Create Application    0.883512     -0.266169       -1.054783  \n",
            "7              A_Submitted   -0.067085     -0.266168       -1.054783  \n",
            "8           W_Handle leads   -0.066990     -0.266166       -1.054783  \n",
            "9           W_Handle leads   -0.013487     -0.265207       -1.054593  \n",
            "10  W_Complete application   -0.067110     -0.266168       -1.054593  \n",
            "11               A_Concept   -0.067111     -0.266168       -1.054593  \n",
            "12    A_Create Application    2.436334     -0.266169       -1.054783  \n",
            "13             A_Submitted   -0.067079     -0.266168       -1.054783  \n",
            "14          W_Handle leads   -0.066662     -0.266160       -1.054781  \n",
            "15          W_Handle leads   -0.027834     -0.265464       -1.054642  \n",
            "16  W_Complete application   -0.067106     -0.266168       -1.054642  \n",
            "17               A_Concept   -0.067109     -0.266168       -1.054642  \n",
            "18    A_Create Application    4.838460     -0.266169       -1.054783  \n",
            "19             A_Submitted   -0.067092     -0.266168       -1.054783  \n"
          ]
        }
      ]
    },
    {
      "cell_type": "code",
      "source": [
        "# 9. Insert SOC and EOC rows\n",
        "training_df = add_soc_eoc(training_df,\n",
        "                          case_id, timestamp, event_name)\n",
        "print(training_df.info())\n",
        "print(training_df.head(20))\n"
      ],
      "metadata": {
        "colab": {
          "base_uri": "https://localhost:8080/"
        },
        "id": "Vs_xPKyf-TQO",
        "outputId": "66fcda2c-8c10-4a23-8bab-4ef0b4adad67"
      },
      "execution_count": null,
      "outputs": [
        {
          "output_type": "stream",
          "name": "stdout",
          "text": [
            "<class 'pandas.core.frame.DataFrame'>\n",
            "RangeIndex: 22739 entries, 0 to 22738\n",
            "Data columns (total 8 columns):\n",
            " #   Column             Non-Null Count  Dtype              \n",
            "---  ------             --------------  -----              \n",
            " 0   Unnamed: 0         22739 non-null  int64              \n",
            " 1   case:concept:name  22739 non-null  int64              \n",
            " 2   time:timestamp     22739 non-null  datetime64[ns, UTC]\n",
            " 3   concept:name       22739 non-null  object             \n",
            " 4   log_ts_pre         22739 non-null  float64            \n",
            " 5   trace_ts_pre       22739 non-null  float64            \n",
            " 6   trace_ts_start     22739 non-null  float64            \n",
            " 7   event_idx          22739 non-null  int64              \n",
            "dtypes: datetime64[ns, UTC](1), float64(3), int64(3), object(1)\n",
            "memory usage: 1.4+ MB\n",
            "None\n",
            "    Unnamed: 0  case:concept:name                   time:timestamp  \\\n",
            "0            0                  1 2016-01-01 09:51:15.304000+00:00   \n",
            "1            0                  1 2016-01-01 09:51:15.304000+00:00   \n",
            "2            1                  1 2016-01-01 09:51:15.352000+00:00   \n",
            "3            2                  1 2016-01-01 09:51:15.774000+00:00   \n",
            "4            3                  1 2016-01-01 09:52:36.392000+00:00   \n",
            "5            4                  1 2016-01-01 09:52:36.403000+00:00   \n",
            "6            5                  1 2016-01-01 09:52:36.413000+00:00   \n",
            "7            6                  2 2016-01-01 10:16:11.500000+00:00   \n",
            "8            6                  2 2016-01-01 10:16:11.500000+00:00   \n",
            "9            7                  2 2016-01-01 10:16:11.549000+00:00   \n",
            "10           8                  2 2016-01-01 10:16:11.740000+00:00   \n",
            "11           9                  2 2016-01-01 10:17:31.573000+00:00   \n",
            "12          10                  2 2016-01-01 10:17:31.584000+00:00   \n",
            "13          11                  2 2016-01-01 10:17:31.594000+00:00   \n",
            "14          12                  3 2016-01-01 11:19:38.177000+00:00   \n",
            "15          12                  3 2016-01-01 11:19:38.177000+00:00   \n",
            "16          13                  3 2016-01-01 11:19:38.235000+00:00   \n",
            "17          14                  3 2016-01-01 11:19:38.914000+00:00   \n",
            "18          15                  3 2016-01-01 11:20:37.391000+00:00   \n",
            "19          16                  3 2016-01-01 11:20:37.409000+00:00   \n",
            "\n",
            "              concept:name  log_ts_pre  trace_ts_pre  trace_ts_start  \\\n",
            "0                      SOC   -0.067118     -0.266169       -1.054783   \n",
            "1     A_Create Application   -0.067118     -0.266169       -1.054783   \n",
            "2              A_Submitted   -0.067086     -0.266168       -1.054783   \n",
            "3           W_Handle leads   -0.066834     -0.266164       -1.054782   \n",
            "4           W_Handle leads   -0.012960     -0.265198       -1.054590   \n",
            "5   W_Complete application   -0.067110     -0.266168       -1.054590   \n",
            "6                A_Concept   -0.067111     -0.266168       -1.054590   \n",
            "7                      SOC    0.883512     -0.266169       -1.054783   \n",
            "8     A_Create Application    0.883512     -0.266169       -1.054783   \n",
            "9              A_Submitted   -0.067085     -0.266168       -1.054783   \n",
            "10          W_Handle leads   -0.066990     -0.266166       -1.054783   \n",
            "11          W_Handle leads   -0.013487     -0.265207       -1.054593   \n",
            "12  W_Complete application   -0.067110     -0.266168       -1.054593   \n",
            "13               A_Concept   -0.067111     -0.266168       -1.054593   \n",
            "14                     SOC    2.436334     -0.266169       -1.054783   \n",
            "15    A_Create Application    2.436334     -0.266169       -1.054783   \n",
            "16             A_Submitted   -0.067079     -0.266168       -1.054783   \n",
            "17          W_Handle leads   -0.066662     -0.266160       -1.054781   \n",
            "18          W_Handle leads   -0.027834     -0.265464       -1.054642   \n",
            "19  W_Complete application   -0.067106     -0.266168       -1.054642   \n",
            "\n",
            "    event_idx  \n",
            "0           1  \n",
            "1           2  \n",
            "2           3  \n",
            "3           4  \n",
            "4           5  \n",
            "5           6  \n",
            "6           7  \n",
            "7           8  \n",
            "8           9  \n",
            "9          10  \n",
            "10         11  \n",
            "11         12  \n",
            "12         13  \n",
            "13         14  \n",
            "14         15  \n",
            "15         16  \n",
            "16         17  \n",
            "17         18  \n",
            "18         19  \n",
            "19         20  \n"
          ]
        }
      ]
    },
    {
      "cell_type": "code",
      "source": [
        "# 10. Mapping event name to numbers\n",
        "training_df, train_event_name_dict = train_mapping_event_name(training_df,\n",
        "                                                                  event_name)\n",
        "print(training_df.head(20))\n",
        "print(train_event_name_dict)"
      ],
      "metadata": {
        "colab": {
          "base_uri": "https://localhost:8080/"
        },
        "id": "ObdaRNyD-cVu",
        "outputId": "d8f6aa32-c740-4d09-f630-2f61ad0ea418"
      },
      "execution_count": null,
      "outputs": [
        {
          "output_type": "stream",
          "name": "stdout",
          "text": [
            "    Unnamed: 0  case:concept:name                   time:timestamp  \\\n",
            "0            0                  1 2016-01-01 09:51:15.304000+00:00   \n",
            "1            0                  1 2016-01-01 09:51:15.304000+00:00   \n",
            "2            1                  1 2016-01-01 09:51:15.352000+00:00   \n",
            "3            2                  1 2016-01-01 09:51:15.774000+00:00   \n",
            "4            3                  1 2016-01-01 09:52:36.392000+00:00   \n",
            "5            4                  1 2016-01-01 09:52:36.403000+00:00   \n",
            "6            5                  1 2016-01-01 09:52:36.413000+00:00   \n",
            "7            6                  2 2016-01-01 10:16:11.500000+00:00   \n",
            "8            6                  2 2016-01-01 10:16:11.500000+00:00   \n",
            "9            7                  2 2016-01-01 10:16:11.549000+00:00   \n",
            "10           8                  2 2016-01-01 10:16:11.740000+00:00   \n",
            "11           9                  2 2016-01-01 10:17:31.573000+00:00   \n",
            "12          10                  2 2016-01-01 10:17:31.584000+00:00   \n",
            "13          11                  2 2016-01-01 10:17:31.594000+00:00   \n",
            "14          12                  3 2016-01-01 11:19:38.177000+00:00   \n",
            "15          12                  3 2016-01-01 11:19:38.177000+00:00   \n",
            "16          13                  3 2016-01-01 11:19:38.235000+00:00   \n",
            "17          14                  3 2016-01-01 11:19:38.914000+00:00   \n",
            "18          15                  3 2016-01-01 11:20:37.391000+00:00   \n",
            "19          16                  3 2016-01-01 11:20:37.409000+00:00   \n",
            "\n",
            "    concept:name  log_ts_pre  trace_ts_pre  trace_ts_start  event_idx  \n",
            "0              2   -0.067118     -0.266169       -1.054783          1  \n",
            "1              4   -0.067118     -0.266169       -1.054783          2  \n",
            "2              5   -0.067086     -0.266168       -1.054783          3  \n",
            "3              6   -0.066834     -0.266164       -1.054782          4  \n",
            "4              6   -0.012960     -0.265198       -1.054590          5  \n",
            "5              7   -0.067110     -0.266168       -1.054590          6  \n",
            "6              8   -0.067111     -0.266168       -1.054590          7  \n",
            "7              2    0.883512     -0.266169       -1.054783          8  \n",
            "8              4    0.883512     -0.266169       -1.054783          9  \n",
            "9              5   -0.067085     -0.266168       -1.054783         10  \n",
            "10             6   -0.066990     -0.266166       -1.054783         11  \n",
            "11             6   -0.013487     -0.265207       -1.054593         12  \n",
            "12             7   -0.067110     -0.266168       -1.054593         13  \n",
            "13             8   -0.067111     -0.266168       -1.054593         14  \n",
            "14             2    2.436334     -0.266169       -1.054783         15  \n",
            "15             4    2.436334     -0.266169       -1.054783         16  \n",
            "16             5   -0.067079     -0.266168       -1.054783         17  \n",
            "17             6   -0.066662     -0.266160       -1.054781         18  \n",
            "18             6   -0.027834     -0.265464       -1.054642         19  \n",
            "19             7   -0.067106     -0.266168       -1.054642         20  \n",
            "{'SOC': 2, 'EOC': 3, 'A_Create Application': 4, 'A_Submitted': 5, 'W_Handle leads': 6, 'W_Complete application': 7, 'A_Concept': 8, 'A_Accepted': 9, 'O_Create Offer': 10, 'O_Created': 11, 'O_Sent (mail and online)': 12, 'W_Call after offers': 13, 'A_Complete': 14, 'O_Cancelled': 15, 'O_Sent (online only)': 16, 'W_Validate application': 17, 'A_Validating': 18, 'O_Returned': 19, 'W_Call incomplete files': 20, 'A_Incomplete': 21, 'A_Cancelled': 22, 'O_Accepted': 23, 'A_Pending': 24, 'A_Denied': 25, 'O_Refused': 26, 'W_Assess potential fraud': 27}\n"
          ]
        }
      ]
    },
    {
      "cell_type": "code",
      "source": [
        "# Set printed tensor format\n",
        "torch.set_printoptions(sci_mode=False, precision=2)"
      ],
      "metadata": {
        "id": "xVRwx1dPkb9w"
      },
      "execution_count": null,
      "outputs": []
    },
    {
      "cell_type": "code",
      "source": [
        "# 11. Create train_log_prefix_tensor, train_trace_prefix_tensor, train_suffix_act_tensor, train_suffix_time_tensor\n",
        "train_log_prefix_tensor = create_log_prefix_tensor(training_df, log_prefix_length, set_name, test_ratio, num_act,\n",
        "                                                       log_col_name, categorical_features, case_id, timestamp, event_name)\n",
        "print(train_log_prefix_tensor.shape)\n",
        "print(train_log_prefix_tensor[:5])"
      ],
      "metadata": {
        "id": "LgKtu_Lt-vHR",
        "colab": {
          "base_uri": "https://localhost:8080/"
        },
        "outputId": "b27ce933-96ff-43f0-b1a5-2f720d3e2e38"
      },
      "execution_count": null,
      "outputs": [
        {
          "output_type": "stream",
          "name": "stdout",
          "text": [
            "torch.Size([22179, 30, 29])\n",
            "tensor([[[     0.00,      0.00,      0.00,  ...,      0.00,      0.00,\n",
            "          -10000.00],\n",
            "         [     0.00,      0.00,      0.00,  ...,      0.00,      0.00,\n",
            "          -10000.00],\n",
            "         [     0.00,      0.00,      0.00,  ...,      0.00,      0.00,\n",
            "          -10000.00],\n",
            "         ...,\n",
            "         [     0.00,      0.00,      0.00,  ...,      0.00,      0.00,\n",
            "          -10000.00],\n",
            "         [     0.00,      0.00,      0.00,  ...,      0.00,      0.00,\n",
            "          -10000.00],\n",
            "         [     0.00,      0.00,      1.00,  ...,      0.00,      0.00,\n",
            "              -0.07]],\n",
            "\n",
            "        [[     0.00,      0.00,      0.00,  ...,      0.00,      0.00,\n",
            "          -10000.00],\n",
            "         [     0.00,      0.00,      0.00,  ...,      0.00,      0.00,\n",
            "          -10000.00],\n",
            "         [     0.00,      0.00,      0.00,  ...,      0.00,      0.00,\n",
            "          -10000.00],\n",
            "         ...,\n",
            "         [     0.00,      0.00,      0.00,  ...,      0.00,      0.00,\n",
            "          -10000.00],\n",
            "         [     0.00,      0.00,      1.00,  ...,      0.00,      0.00,\n",
            "              -0.07],\n",
            "         [     0.00,      0.00,      0.00,  ...,      0.00,      0.00,\n",
            "              -0.07]],\n",
            "\n",
            "        [[     0.00,      0.00,      0.00,  ...,      0.00,      0.00,\n",
            "          -10000.00],\n",
            "         [     0.00,      0.00,      0.00,  ...,      0.00,      0.00,\n",
            "          -10000.00],\n",
            "         [     0.00,      0.00,      0.00,  ...,      0.00,      0.00,\n",
            "          -10000.00],\n",
            "         ...,\n",
            "         [     0.00,      0.00,      1.00,  ...,      0.00,      0.00,\n",
            "              -0.07],\n",
            "         [     0.00,      0.00,      0.00,  ...,      0.00,      0.00,\n",
            "              -0.07],\n",
            "         [     0.00,      0.00,      0.00,  ...,      0.00,      0.00,\n",
            "              -0.07]],\n",
            "\n",
            "        [[     0.00,      0.00,      0.00,  ...,      0.00,      0.00,\n",
            "          -10000.00],\n",
            "         [     0.00,      0.00,      0.00,  ...,      0.00,      0.00,\n",
            "          -10000.00],\n",
            "         [     0.00,      0.00,      0.00,  ...,      0.00,      0.00,\n",
            "          -10000.00],\n",
            "         ...,\n",
            "         [     0.00,      0.00,      0.00,  ...,      0.00,      0.00,\n",
            "              -0.07],\n",
            "         [     0.00,      0.00,      0.00,  ...,      0.00,      0.00,\n",
            "              -0.07],\n",
            "         [     0.00,      0.00,      0.00,  ...,      0.00,      0.00,\n",
            "              -0.07]],\n",
            "\n",
            "        [[     0.00,      0.00,      0.00,  ...,      0.00,      0.00,\n",
            "          -10000.00],\n",
            "         [     0.00,      0.00,      0.00,  ...,      0.00,      0.00,\n",
            "          -10000.00],\n",
            "         [     0.00,      0.00,      0.00,  ...,      0.00,      0.00,\n",
            "          -10000.00],\n",
            "         ...,\n",
            "         [     0.00,      0.00,      0.00,  ...,      0.00,      0.00,\n",
            "              -0.07],\n",
            "         [     0.00,      0.00,      0.00,  ...,      0.00,      0.00,\n",
            "              -0.07],\n",
            "         [     0.00,      0.00,      0.00,  ...,      0.00,      0.00,\n",
            "              -0.01]]])\n"
          ]
        }
      ]
    },
    {
      "cell_type": "code",
      "source": [
        "train_trace_prefix_tensor = create_trace_prefix_tensor(training_df, trace_prefix_length, set_name, test_ratio, num_act,\n",
        "                                                           trace_prefix_col_name, categorical_features, event_idx, case_id, timestamp, event_name)\n",
        "print(train_trace_prefix_tensor.shape)\n",
        "print(train_trace_prefix_tensor[:5])"
      ],
      "metadata": {
        "id": "206KoGTe_KPt",
        "colab": {
          "base_uri": "https://localhost:8080/"
        },
        "outputId": "45fad4d3-ce74-464f-cf96-9a8c1b21c8d2"
      },
      "execution_count": null,
      "outputs": [
        {
          "output_type": "stream",
          "name": "stdout",
          "text": [
            "torch.Size([22179, 15, 30])\n",
            "tensor([[[     0.00,      0.00,      0.00,  ...,      0.00, -10000.00,\n",
            "          -10000.00],\n",
            "         [     0.00,      0.00,      0.00,  ...,      0.00, -10000.00,\n",
            "          -10000.00],\n",
            "         [     0.00,      0.00,      0.00,  ...,      0.00, -10000.00,\n",
            "          -10000.00],\n",
            "         ...,\n",
            "         [     0.00,      0.00,      0.00,  ...,      0.00, -10000.00,\n",
            "          -10000.00],\n",
            "         [     0.00,      0.00,      0.00,  ...,      0.00, -10000.00,\n",
            "          -10000.00],\n",
            "         [     0.00,      0.00,      1.00,  ...,      0.00,     -0.27,\n",
            "              -1.05]],\n",
            "\n",
            "        [[     0.00,      0.00,      0.00,  ...,      0.00, -10000.00,\n",
            "          -10000.00],\n",
            "         [     0.00,      0.00,      0.00,  ...,      0.00, -10000.00,\n",
            "          -10000.00],\n",
            "         [     0.00,      0.00,      0.00,  ...,      0.00, -10000.00,\n",
            "          -10000.00],\n",
            "         ...,\n",
            "         [     0.00,      0.00,      0.00,  ...,      0.00, -10000.00,\n",
            "          -10000.00],\n",
            "         [     0.00,      0.00,      1.00,  ...,      0.00,     -0.27,\n",
            "              -1.05],\n",
            "         [     0.00,      0.00,      0.00,  ...,      0.00,     -0.27,\n",
            "              -1.05]],\n",
            "\n",
            "        [[     0.00,      0.00,      0.00,  ...,      0.00, -10000.00,\n",
            "          -10000.00],\n",
            "         [     0.00,      0.00,      0.00,  ...,      0.00, -10000.00,\n",
            "          -10000.00],\n",
            "         [     0.00,      0.00,      0.00,  ...,      0.00, -10000.00,\n",
            "          -10000.00],\n",
            "         ...,\n",
            "         [     0.00,      0.00,      1.00,  ...,      0.00,     -0.27,\n",
            "              -1.05],\n",
            "         [     0.00,      0.00,      0.00,  ...,      0.00,     -0.27,\n",
            "              -1.05],\n",
            "         [     0.00,      0.00,      0.00,  ...,      0.00,     -0.27,\n",
            "              -1.05]],\n",
            "\n",
            "        [[     0.00,      0.00,      0.00,  ...,      0.00, -10000.00,\n",
            "          -10000.00],\n",
            "         [     0.00,      0.00,      0.00,  ...,      0.00, -10000.00,\n",
            "          -10000.00],\n",
            "         [     0.00,      0.00,      0.00,  ...,      0.00, -10000.00,\n",
            "          -10000.00],\n",
            "         ...,\n",
            "         [     0.00,      0.00,      0.00,  ...,      0.00,     -0.27,\n",
            "              -1.05],\n",
            "         [     0.00,      0.00,      0.00,  ...,      0.00,     -0.27,\n",
            "              -1.05],\n",
            "         [     0.00,      0.00,      0.00,  ...,      0.00,     -0.27,\n",
            "              -1.05]],\n",
            "\n",
            "        [[     0.00,      0.00,      0.00,  ...,      0.00, -10000.00,\n",
            "          -10000.00],\n",
            "         [     0.00,      0.00,      0.00,  ...,      0.00, -10000.00,\n",
            "          -10000.00],\n",
            "         [     0.00,      0.00,      0.00,  ...,      0.00, -10000.00,\n",
            "          -10000.00],\n",
            "         ...,\n",
            "         [     0.00,      0.00,      0.00,  ...,      0.00,     -0.27,\n",
            "              -1.05],\n",
            "         [     0.00,      0.00,      0.00,  ...,      0.00,     -0.27,\n",
            "              -1.05],\n",
            "         [     0.00,      0.00,      0.00,  ...,      0.00,     -0.27,\n",
            "              -1.05]]])\n"
          ]
        }
      ]
    },
    {
      "cell_type": "code",
      "source": [
        "train_suffix_act_tensor, train_suffix_time_tensor = create_trace_suffix_tensor(training_df, trace_suffix_length, set_name, test_ratio,\n",
        "                                                                                   trace_suffix_col_name, categorical_features, event_idx, case_id, timestamp, event_name)\n",
        "print(train_suffix_act_tensor.shape)\n",
        "print(train_suffix_act_tensor[:5])\n"
      ],
      "metadata": {
        "id": "SJ1mpUftA0c3",
        "colab": {
          "base_uri": "https://localhost:8080/"
        },
        "outputId": "ec5e3d52-c448-4bdc-be5f-5fa4f18e3e86"
      },
      "execution_count": null,
      "outputs": [
        {
          "output_type": "stream",
          "name": "stdout",
          "text": [
            "torch.Size([22179, 35])\n",
            "tensor([[ 4,  5,  6,  6,  7,  8,  7,  7,  9, 10, 11, 12,  7, 13, 13, 14, 13, 13,\n",
            "         13, 13, 17, 17, 18, 19, 17, 17, 20, 20, 21, 20, 20, 20, 20, 17, 17],\n",
            "        [ 5,  6,  6,  7,  8,  7,  7,  9, 10, 11, 12,  7, 13, 13, 14, 13, 13, 13,\n",
            "         13, 17, 17, 18, 19, 17, 17, 20, 20, 21, 20, 20, 20, 20, 17, 17, 18],\n",
            "        [ 6,  6,  7,  8,  7,  7,  9, 10, 11, 12,  7, 13, 13, 14, 13, 13, 13, 13,\n",
            "         17, 17, 18, 19, 17, 17, 20, 20, 21, 20, 20, 20, 20, 17, 17, 18, 17],\n",
            "        [ 6,  7,  8,  7,  7,  9, 10, 11, 12,  7, 13, 13, 14, 13, 13, 13, 13, 17,\n",
            "         17, 18, 19, 17, 17, 20, 20, 21, 20, 20, 20, 20, 17, 17, 18, 17, 23],\n",
            "        [ 7,  8,  7,  7,  9, 10, 11, 12,  7, 13, 13, 14, 13, 13, 13, 13, 17, 17,\n",
            "         18, 19, 17, 17, 20, 20, 21, 20, 20, 20, 20, 17, 17, 18, 17, 23, 24]])\n"
          ]
        }
      ]
    },
    {
      "cell_type": "code",
      "source": [
        "print(train_suffix_time_tensor.shape)\n",
        "print(train_suffix_time_tensor[:5])"
      ],
      "metadata": {
        "id": "0aNsOhnfkvRZ",
        "colab": {
          "base_uri": "https://localhost:8080/"
        },
        "outputId": "9c1a0eb1-ab0f-43c0-99ef-574f691b1754"
      },
      "execution_count": null,
      "outputs": [
        {
          "output_type": "stream",
          "name": "stdout",
          "text": [
            "torch.Size([22179, 35])\n",
            "tensor([[-0.27, -0.27, -0.27, -0.27, -0.27, -0.27,  0.81, -0.26, -0.24, -0.26,\n",
            "         -0.27, -0.27, -0.27, -0.27, -0.27, -0.27, -0.26,  3.80, -0.27,  7.18,\n",
            "         -0.27, -0.27, -0.27, -0.27, -0.26,  0.60, -0.27, -0.27, -0.27, -0.27,\n",
            "         -0.17, -0.26, -0.17, -0.27, -0.27],\n",
            "        [-0.27, -0.27, -0.27, -0.27, -0.27,  0.81, -0.26, -0.24, -0.26, -0.27,\n",
            "         -0.27, -0.27, -0.27, -0.27, -0.27, -0.26,  3.80, -0.27,  7.18, -0.27,\n",
            "         -0.27, -0.27, -0.27, -0.26,  0.60, -0.27, -0.27, -0.27, -0.27, -0.17,\n",
            "         -0.26, -0.17, -0.27, -0.27, -0.27],\n",
            "        [-0.27, -0.27, -0.27, -0.27,  0.81, -0.26, -0.24, -0.26, -0.27, -0.27,\n",
            "         -0.27, -0.27, -0.27, -0.27, -0.26,  3.80, -0.27,  7.18, -0.27, -0.27,\n",
            "         -0.27, -0.27, -0.26,  0.60, -0.27, -0.27, -0.27, -0.27, -0.17, -0.26,\n",
            "         -0.17, -0.27, -0.27, -0.27, -0.26],\n",
            "        [-0.27, -0.27, -0.27,  0.81, -0.26, -0.24, -0.26, -0.27, -0.27, -0.27,\n",
            "         -0.27, -0.27, -0.27, -0.26,  3.80, -0.27,  7.18, -0.27, -0.27, -0.27,\n",
            "         -0.27, -0.26,  0.60, -0.27, -0.27, -0.27, -0.27, -0.17, -0.26, -0.17,\n",
            "         -0.27, -0.27, -0.27, -0.26, -0.18],\n",
            "        [-0.27, -0.27,  0.81, -0.26, -0.24, -0.26, -0.27, -0.27, -0.27, -0.27,\n",
            "         -0.27, -0.27, -0.26,  3.80, -0.27,  7.18, -0.27, -0.27, -0.27, -0.27,\n",
            "         -0.26,  0.60, -0.27, -0.27, -0.27, -0.27, -0.17, -0.26, -0.17, -0.27,\n",
            "         -0.27, -0.27, -0.26, -0.18, -0.27]])\n"
          ]
        }
      ]
    },
    {
      "cell_type": "code",
      "source": [
        "# 12. Build TensorDataset\n",
        "train_dataset = TensorDataset(train_log_prefix_tensor, train_trace_prefix_tensor, train_suffix_act_tensor, train_suffix_time_tensor)"
      ],
      "metadata": {
        "id": "BjBJ4PWzByj6"
      },
      "execution_count": null,
      "outputs": []
    },
    {
      "cell_type": "code",
      "source": [
        "# 13. Split TensorDataset into train_dataset, valid_dataset\n",
        "train_dataset, valid_dataset = random_split(train_dataset, [1-validation_ratio, validation_ratio])\n",
        "print(len(train_dataset))\n",
        "print(len(valid_dataset))"
      ],
      "metadata": {
        "colab": {
          "base_uri": "https://localhost:8080/"
        },
        "id": "iFg_-9cHk5u8",
        "outputId": "eac447e6-189d-42af-f4ed-f730863c682e"
      },
      "execution_count": null,
      "outputs": [
        {
          "output_type": "stream",
          "name": "stdout",
          "text": [
            "19962\n",
            "2217\n"
          ]
        }
      ]
    },
    {
      "cell_type": "code",
      "source": [
        "# 14. Build train_dataloader, valid_dataloader\n",
        "train_dataloader = DataLoader(train_dataset, batch_size=64, shuffle=True)\n",
        "valid_dataloader = DataLoader(valid_dataset, batch_size=64, shuffle=True)"
      ],
      "metadata": {
        "id": "SPQFmrMek1UX"
      },
      "execution_count": null,
      "outputs": []
    },
    {
      "cell_type": "markdown",
      "source": [
        "# Create test dataloader pipeline"
      ],
      "metadata": {
        "id": "jSUVnaonlOdv"
      }
    },
    {
      "cell_type": "code",
      "source": [
        "# Define parameters\n",
        "csv_path = 'cases2000.csv'\n",
        "end_date = '2017-01'\n",
        "max_duration = 47.81\n",
        "test_ratio = 0.1\n",
        "log_prefix_length = 30\n",
        "trace_prefix_length = 15\n",
        "trace_suffix_length = 35\n",
        "num_act = 28 # number of activity labels in training set: 24"
      ],
      "metadata": {
        "id": "vSeAUytelOLR"
      },
      "execution_count": null,
      "outputs": []
    },
    {
      "cell_type": "code",
      "source": [
        "set_name = 'test'\n",
        "log_col_name = ['concept:name', 'log_ts_pre']\n",
        "trace_prefix_col_name = ['concept:name', 'trace_ts_pre', 'trace_ts_start']\n",
        "trace_suffix_col_name = ['concept:name', 'trace_ts_pre']\n",
        "categorical_features = ['concept:name']\n",
        "continuous_features = ['log_ts_pre', 'trace_ts_pre', 'trace_ts_start']\n",
        "case_id = 'case:concept:name'\n",
        "timestamp = 'time:timestamp'\n",
        "event_name = 'concept:name'\n",
        "event_idx = 'event_idx'"
      ],
      "metadata": {
        "id": "A2J7eTerlsyW"
      },
      "execution_count": null,
      "outputs": []
    },
    {
      "cell_type": "code",
      "source": [
        "train_event_name_dict = train_event_name_dict\n",
        "mean_dict = mean_dict\n",
        "std_dict = std_dict"
      ],
      "metadata": {
        "id": "GX67pceglg1q"
      },
      "execution_count": null,
      "outputs": []
    },
    {
      "cell_type": "code",
      "source": [
        "# 1. Tranform csv to dataframe\n",
        "df = pd.read_csv(csv_path)\n",
        "print(df.info())"
      ],
      "metadata": {
        "colab": {
          "base_uri": "https://localhost:8080/"
        },
        "id": "OSSYXmVAl2jL",
        "outputId": "96e0ead0-05e9-45f8-ea66-7096083fb9c7"
      },
      "execution_count": null,
      "outputs": [
        {
          "output_type": "stream",
          "name": "stdout",
          "text": [
            "<class 'pandas.core.frame.DataFrame'>\n",
            "RangeIndex: 79917 entries, 0 to 79916\n",
            "Data columns (total 4 columns):\n",
            " #   Column             Non-Null Count  Dtype \n",
            "---  ------             --------------  ----- \n",
            " 0   Unnamed: 0         79917 non-null  int64 \n",
            " 1   case:concept:name  79917 non-null  object\n",
            " 2   time:timestamp     79917 non-null  object\n",
            " 3   concept:name       79917 non-null  object\n",
            "dtypes: int64(1), object(3)\n",
            "memory usage: 2.4+ MB\n",
            "None\n"
          ]
        }
      ]
    },
    {
      "cell_type": "code",
      "source": [
        "# # 2. Debiasing and cleaning\n",
        "# df = debiasing(df,end_date, max_duration,\n",
        "#                    case_id, timestamp)"
      ],
      "metadata": {
        "id": "sr-3Futvl_CE"
      },
      "execution_count": null,
      "outputs": []
    },
    {
      "cell_type": "code",
      "source": [
        "# 3. Sort dataframe by timestamp\n",
        "df = sort_log(df,\n",
        "              timestamp)"
      ],
      "metadata": {
        "id": "bgPeKZ84mDX8"
      },
      "execution_count": null,
      "outputs": []
    },
    {
      "cell_type": "code",
      "source": [
        "# 4. Create time features\n",
        "df = create_time_features(df,\n",
        "                          case_id,timestamp)\n",
        "print(df.info())\n",
        "print(df.head(20))"
      ],
      "metadata": {
        "colab": {
          "base_uri": "https://localhost:8080/"
        },
        "id": "bo1RuYSSmFiN",
        "outputId": "45344488-0044-4550-ae2b-af853729b2b7"
      },
      "execution_count": null,
      "outputs": [
        {
          "output_type": "stream",
          "name": "stdout",
          "text": [
            "<class 'pandas.core.frame.DataFrame'>\n",
            "RangeIndex: 79917 entries, 0 to 79916\n",
            "Data columns (total 7 columns):\n",
            " #   Column             Non-Null Count  Dtype              \n",
            "---  ------             --------------  -----              \n",
            " 0   Unnamed: 0         79917 non-null  int64              \n",
            " 1   case:concept:name  79917 non-null  object             \n",
            " 2   time:timestamp     79917 non-null  datetime64[ns, UTC]\n",
            " 3   concept:name       79917 non-null  object             \n",
            " 4   log_ts_pre         79917 non-null  float64            \n",
            " 5   trace_ts_pre       79917 non-null  float64            \n",
            " 6   trace_ts_start     79917 non-null  float64            \n",
            "dtypes: datetime64[ns, UTC](1), float64(3), int64(1), object(2)\n",
            "memory usage: 4.3+ MB\n",
            "None\n",
            "    Unnamed: 0       case:concept:name                   time:timestamp  \\\n",
            "0            0   Application_652823628 2016-01-01 09:51:15.304000+00:00   \n",
            "1            1   Application_652823628 2016-01-01 09:51:15.352000+00:00   \n",
            "2            2   Application_652823628 2016-01-01 09:51:15.774000+00:00   \n",
            "3            3   Application_652823628 2016-01-01 09:52:36.392000+00:00   \n",
            "4            4   Application_652823628 2016-01-01 09:52:36.403000+00:00   \n",
            "5            5   Application_652823628 2016-01-01 09:52:36.413000+00:00   \n",
            "6            6  Application_1691306052 2016-01-01 10:16:11.500000+00:00   \n",
            "7            7  Application_1691306052 2016-01-01 10:16:11.549000+00:00   \n",
            "8            8  Application_1691306052 2016-01-01 10:16:11.740000+00:00   \n",
            "9            9  Application_1691306052 2016-01-01 10:17:31.573000+00:00   \n",
            "10          10  Application_1691306052 2016-01-01 10:17:31.584000+00:00   \n",
            "11          11  Application_1691306052 2016-01-01 10:17:31.594000+00:00   \n",
            "12          12   Application_428409768 2016-01-01 11:19:38.177000+00:00   \n",
            "13          13   Application_428409768 2016-01-01 11:19:38.235000+00:00   \n",
            "14          14   Application_428409768 2016-01-01 11:19:38.914000+00:00   \n",
            "15          15   Application_428409768 2016-01-01 11:20:37.391000+00:00   \n",
            "16          16   Application_428409768 2016-01-01 11:20:37.409000+00:00   \n",
            "17          17   Application_428409768 2016-01-01 11:20:37.422000+00:00   \n",
            "18          18  Application_1746793196 2016-01-01 12:34:53.911000+00:00   \n",
            "19          19  Application_1746793196 2016-01-01 12:34:53.950000+00:00   \n",
            "\n",
            "              concept:name  log_ts_pre  trace_ts_pre  trace_ts_start  \n",
            "0     A_Create Application       0.000         0.000           0.000  \n",
            "1              A_Submitted       0.048         0.048           0.048  \n",
            "2           W_Handle leads       0.422         0.422           0.470  \n",
            "3           W_Handle leads      80.618        80.618          81.088  \n",
            "4   W_Complete application       0.011         0.011          81.099  \n",
            "5                A_Concept       0.010         0.010          81.109  \n",
            "6     A_Create Application    1415.087         0.000           0.000  \n",
            "7              A_Submitted       0.049         0.049           0.049  \n",
            "8           W_Handle leads       0.191         0.191           0.240  \n",
            "9           W_Handle leads      79.833        79.833          80.073  \n",
            "10  W_Complete application       0.011         0.011          80.084  \n",
            "11               A_Concept       0.010         0.010          80.094  \n",
            "12    A_Create Application    3726.583         0.000           0.000  \n",
            "13             A_Submitted       0.058         0.058           0.058  \n",
            "14          W_Handle leads       0.679         0.679           0.737  \n",
            "15          W_Handle leads      58.477        58.477          59.214  \n",
            "16  W_Complete application       0.018         0.018          59.232  \n",
            "17               A_Concept       0.013         0.013          59.245  \n",
            "18    A_Create Application    4456.489         0.000           0.000  \n",
            "19             A_Submitted       0.039         0.039           0.039  \n"
          ]
        }
      ]
    },
    {
      "cell_type": "code",
      "source": [
        "# 5. Standardize time features\n",
        "df = test_standardize(df,\n",
        "                      mean_dict, std_dict, continuous_features)\n",
        "print(df.head(20))"
      ],
      "metadata": {
        "colab": {
          "base_uri": "https://localhost:8080/"
        },
        "id": "_kqRB9W_mJGF",
        "outputId": "33b47940-8a54-4d84-84ed-e7a68c49b407"
      },
      "execution_count": null,
      "outputs": [
        {
          "output_type": "stream",
          "name": "stdout",
          "text": [
            "    Unnamed: 0       case:concept:name                   time:timestamp  \\\n",
            "0            0   Application_652823628 2016-01-01 09:51:15.304000+00:00   \n",
            "1            1   Application_652823628 2016-01-01 09:51:15.352000+00:00   \n",
            "2            2   Application_652823628 2016-01-01 09:51:15.774000+00:00   \n",
            "3            3   Application_652823628 2016-01-01 09:52:36.392000+00:00   \n",
            "4            4   Application_652823628 2016-01-01 09:52:36.403000+00:00   \n",
            "5            5   Application_652823628 2016-01-01 09:52:36.413000+00:00   \n",
            "6            6  Application_1691306052 2016-01-01 10:16:11.500000+00:00   \n",
            "7            7  Application_1691306052 2016-01-01 10:16:11.549000+00:00   \n",
            "8            8  Application_1691306052 2016-01-01 10:16:11.740000+00:00   \n",
            "9            9  Application_1691306052 2016-01-01 10:17:31.573000+00:00   \n",
            "10          10  Application_1691306052 2016-01-01 10:17:31.584000+00:00   \n",
            "11          11  Application_1691306052 2016-01-01 10:17:31.594000+00:00   \n",
            "12          12   Application_428409768 2016-01-01 11:19:38.177000+00:00   \n",
            "13          13   Application_428409768 2016-01-01 11:19:38.235000+00:00   \n",
            "14          14   Application_428409768 2016-01-01 11:19:38.914000+00:00   \n",
            "15          15   Application_428409768 2016-01-01 11:20:37.391000+00:00   \n",
            "16          16   Application_428409768 2016-01-01 11:20:37.409000+00:00   \n",
            "17          17   Application_428409768 2016-01-01 11:20:37.422000+00:00   \n",
            "18          18  Application_1746793196 2016-01-01 12:34:53.911000+00:00   \n",
            "19          19  Application_1746793196 2016-01-01 12:34:53.950000+00:00   \n",
            "\n",
            "              concept:name  log_ts_pre  trace_ts_pre  trace_ts_start  \n",
            "0     A_Create Application   -0.067118     -0.266169       -1.054783  \n",
            "1              A_Submitted   -0.067086     -0.266168       -1.054783  \n",
            "2           W_Handle leads   -0.066834     -0.266164       -1.054782  \n",
            "3           W_Handle leads   -0.012960     -0.265198       -1.054590  \n",
            "4   W_Complete application   -0.067110     -0.266168       -1.054590  \n",
            "5                A_Concept   -0.067111     -0.266168       -1.054590  \n",
            "6     A_Create Application    0.883512     -0.266169       -1.054783  \n",
            "7              A_Submitted   -0.067085     -0.266168       -1.054783  \n",
            "8           W_Handle leads   -0.066990     -0.266166       -1.054783  \n",
            "9           W_Handle leads   -0.013487     -0.265207       -1.054593  \n",
            "10  W_Complete application   -0.067110     -0.266168       -1.054593  \n",
            "11               A_Concept   -0.067111     -0.266168       -1.054593  \n",
            "12    A_Create Application    2.436334     -0.266169       -1.054783  \n",
            "13             A_Submitted   -0.067079     -0.266168       -1.054783  \n",
            "14          W_Handle leads   -0.066662     -0.266160       -1.054781  \n",
            "15          W_Handle leads   -0.027834     -0.265464       -1.054642  \n",
            "16  W_Complete application   -0.067106     -0.266168       -1.054642  \n",
            "17               A_Concept   -0.067109     -0.266168       -1.054642  \n",
            "18    A_Create Application    2.926671     -0.266169       -1.054783  \n",
            "19             A_Submitted   -0.067092     -0.266168       -1.054783  \n"
          ]
        }
      ]
    },
    {
      "cell_type": "code",
      "source": [
        "# 6. Map case ID to numbers\n",
        "df, case_id_dict = mapping_case_id(df,\n",
        "                        case_id)\n",
        "print(len(case_id_dict))\n",
        "print(df.head(20))"
      ],
      "metadata": {
        "colab": {
          "base_uri": "https://localhost:8080/"
        },
        "id": "4R8cWEkimLb1",
        "outputId": "aeadf277-71b3-4384-c59e-765df9400e48"
      },
      "execution_count": null,
      "outputs": [
        {
          "output_type": "stream",
          "name": "stdout",
          "text": [
            "2000\n",
            "    Unnamed: 0  case:concept:name                   time:timestamp  \\\n",
            "0            0                  1 2016-01-01 09:51:15.304000+00:00   \n",
            "1            1                  1 2016-01-01 09:51:15.352000+00:00   \n",
            "2            2                  1 2016-01-01 09:51:15.774000+00:00   \n",
            "3            3                  1 2016-01-01 09:52:36.392000+00:00   \n",
            "4            4                  1 2016-01-01 09:52:36.403000+00:00   \n",
            "5            5                  1 2016-01-01 09:52:36.413000+00:00   \n",
            "6            6                  2 2016-01-01 10:16:11.500000+00:00   \n",
            "7            7                  2 2016-01-01 10:16:11.549000+00:00   \n",
            "8            8                  2 2016-01-01 10:16:11.740000+00:00   \n",
            "9            9                  2 2016-01-01 10:17:31.573000+00:00   \n",
            "10          10                  2 2016-01-01 10:17:31.584000+00:00   \n",
            "11          11                  2 2016-01-01 10:17:31.594000+00:00   \n",
            "12          12                  3 2016-01-01 11:19:38.177000+00:00   \n",
            "13          13                  3 2016-01-01 11:19:38.235000+00:00   \n",
            "14          14                  3 2016-01-01 11:19:38.914000+00:00   \n",
            "15          15                  3 2016-01-01 11:20:37.391000+00:00   \n",
            "16          16                  3 2016-01-01 11:20:37.409000+00:00   \n",
            "17          17                  3 2016-01-01 11:20:37.422000+00:00   \n",
            "18          18                  4 2016-01-01 12:34:53.911000+00:00   \n",
            "19          19                  4 2016-01-01 12:34:53.950000+00:00   \n",
            "\n",
            "              concept:name  log_ts_pre  trace_ts_pre  trace_ts_start  \n",
            "0     A_Create Application   -0.067118     -0.266169       -1.054783  \n",
            "1              A_Submitted   -0.067086     -0.266168       -1.054783  \n",
            "2           W_Handle leads   -0.066834     -0.266164       -1.054782  \n",
            "3           W_Handle leads   -0.012960     -0.265198       -1.054590  \n",
            "4   W_Complete application   -0.067110     -0.266168       -1.054590  \n",
            "5                A_Concept   -0.067111     -0.266168       -1.054590  \n",
            "6     A_Create Application    0.883512     -0.266169       -1.054783  \n",
            "7              A_Submitted   -0.067085     -0.266168       -1.054783  \n",
            "8           W_Handle leads   -0.066990     -0.266166       -1.054783  \n",
            "9           W_Handle leads   -0.013487     -0.265207       -1.054593  \n",
            "10  W_Complete application   -0.067110     -0.266168       -1.054593  \n",
            "11               A_Concept   -0.067111     -0.266168       -1.054593  \n",
            "12    A_Create Application    2.436334     -0.266169       -1.054783  \n",
            "13             A_Submitted   -0.067079     -0.266168       -1.054783  \n",
            "14          W_Handle leads   -0.066662     -0.266160       -1.054781  \n",
            "15          W_Handle leads   -0.027834     -0.265464       -1.054642  \n",
            "16  W_Complete application   -0.067106     -0.266168       -1.054642  \n",
            "17               A_Concept   -0.067109     -0.266168       -1.054642  \n",
            "18    A_Create Application    2.926671     -0.266169       -1.054783  \n",
            "19             A_Submitted   -0.067092     -0.266168       -1.054783  \n"
          ]
        }
      ]
    },
    {
      "cell_type": "code",
      "source": [
        "# 7. Insert SOC and EOC rows\n",
        "df = add_soc_eoc(df,\n",
        "                  case_id, timestamp, event_name)\n",
        "print(df.info())\n",
        "print(df.head(20))"
      ],
      "metadata": {
        "colab": {
          "base_uri": "https://localhost:8080/"
        },
        "id": "AIWkZNqtmprQ",
        "outputId": "3c99ee05-99ba-410a-b7d5-4a4295fc1dd9"
      },
      "execution_count": null,
      "outputs": [
        {
          "output_type": "stream",
          "name": "stdout",
          "text": [
            "<class 'pandas.core.frame.DataFrame'>\n",
            "RangeIndex: 83917 entries, 0 to 83916\n",
            "Data columns (total 8 columns):\n",
            " #   Column             Non-Null Count  Dtype              \n",
            "---  ------             --------------  -----              \n",
            " 0   Unnamed: 0         83917 non-null  int64              \n",
            " 1   case:concept:name  83917 non-null  int64              \n",
            " 2   time:timestamp     83917 non-null  datetime64[ns, UTC]\n",
            " 3   concept:name       83917 non-null  object             \n",
            " 4   log_ts_pre         83917 non-null  float64            \n",
            " 5   trace_ts_pre       83917 non-null  float64            \n",
            " 6   trace_ts_start     83917 non-null  float64            \n",
            " 7   event_idx          83917 non-null  int64              \n",
            "dtypes: datetime64[ns, UTC](1), float64(3), int64(3), object(1)\n",
            "memory usage: 5.1+ MB\n",
            "None\n",
            "    Unnamed: 0  case:concept:name                   time:timestamp  \\\n",
            "0            0                  1 2016-01-01 09:51:15.304000+00:00   \n",
            "1            0                  1 2016-01-01 09:51:15.304000+00:00   \n",
            "2            1                  1 2016-01-01 09:51:15.352000+00:00   \n",
            "3            2                  1 2016-01-01 09:51:15.774000+00:00   \n",
            "4            3                  1 2016-01-01 09:52:36.392000+00:00   \n",
            "5            4                  1 2016-01-01 09:52:36.403000+00:00   \n",
            "6            5                  1 2016-01-01 09:52:36.413000+00:00   \n",
            "7            6                  2 2016-01-01 10:16:11.500000+00:00   \n",
            "8            6                  2 2016-01-01 10:16:11.500000+00:00   \n",
            "9            7                  2 2016-01-01 10:16:11.549000+00:00   \n",
            "10           8                  2 2016-01-01 10:16:11.740000+00:00   \n",
            "11           9                  2 2016-01-01 10:17:31.573000+00:00   \n",
            "12          10                  2 2016-01-01 10:17:31.584000+00:00   \n",
            "13          11                  2 2016-01-01 10:17:31.594000+00:00   \n",
            "14          12                  3 2016-01-01 11:19:38.177000+00:00   \n",
            "15          12                  3 2016-01-01 11:19:38.177000+00:00   \n",
            "16          13                  3 2016-01-01 11:19:38.235000+00:00   \n",
            "17          14                  3 2016-01-01 11:19:38.914000+00:00   \n",
            "18          15                  3 2016-01-01 11:20:37.391000+00:00   \n",
            "19          16                  3 2016-01-01 11:20:37.409000+00:00   \n",
            "\n",
            "              concept:name  log_ts_pre  trace_ts_pre  trace_ts_start  \\\n",
            "0                      SOC   -0.067118     -0.266169       -1.054783   \n",
            "1     A_Create Application   -0.067118     -0.266169       -1.054783   \n",
            "2              A_Submitted   -0.067086     -0.266168       -1.054783   \n",
            "3           W_Handle leads   -0.066834     -0.266164       -1.054782   \n",
            "4           W_Handle leads   -0.012960     -0.265198       -1.054590   \n",
            "5   W_Complete application   -0.067110     -0.266168       -1.054590   \n",
            "6                A_Concept   -0.067111     -0.266168       -1.054590   \n",
            "7                      SOC    0.883512     -0.266169       -1.054783   \n",
            "8     A_Create Application    0.883512     -0.266169       -1.054783   \n",
            "9              A_Submitted   -0.067085     -0.266168       -1.054783   \n",
            "10          W_Handle leads   -0.066990     -0.266166       -1.054783   \n",
            "11          W_Handle leads   -0.013487     -0.265207       -1.054593   \n",
            "12  W_Complete application   -0.067110     -0.266168       -1.054593   \n",
            "13               A_Concept   -0.067111     -0.266168       -1.054593   \n",
            "14                     SOC    2.436334     -0.266169       -1.054783   \n",
            "15    A_Create Application    2.436334     -0.266169       -1.054783   \n",
            "16             A_Submitted   -0.067079     -0.266168       -1.054783   \n",
            "17          W_Handle leads   -0.066662     -0.266160       -1.054781   \n",
            "18          W_Handle leads   -0.027834     -0.265464       -1.054642   \n",
            "19  W_Complete application   -0.067106     -0.266168       -1.054642   \n",
            "\n",
            "    event_idx  \n",
            "0           1  \n",
            "1           2  \n",
            "2           3  \n",
            "3           4  \n",
            "4           5  \n",
            "5           6  \n",
            "6           7  \n",
            "7           8  \n",
            "8           9  \n",
            "9          10  \n",
            "10         11  \n",
            "11         12  \n",
            "12         13  \n",
            "13         14  \n",
            "14         15  \n",
            "15         16  \n",
            "16         17  \n",
            "17         18  \n",
            "18         19  \n",
            "19         20  \n"
          ]
        }
      ]
    },
    {
      "cell_type": "code",
      "source": [
        "# 8. Mapping event name to numbers\n",
        "df, test_event_name_dict = test_mapping_event_name(df, train_event_name_dict,\n",
        "                                                  event_name)\n",
        "print(df.head(20))\n",
        "print(test_event_name_dict)"
      ],
      "metadata": {
        "colab": {
          "base_uri": "https://localhost:8080/"
        },
        "id": "_uD9dRWjm0Xo",
        "outputId": "0ed6847b-826f-4783-a328-e87344829c6b"
      },
      "execution_count": null,
      "outputs": [
        {
          "output_type": "stream",
          "name": "stdout",
          "text": [
            "    Unnamed: 0  case:concept:name                   time:timestamp  \\\n",
            "0            0                  1 2016-01-01 09:51:15.304000+00:00   \n",
            "1            0                  1 2016-01-01 09:51:15.304000+00:00   \n",
            "2            1                  1 2016-01-01 09:51:15.352000+00:00   \n",
            "3            2                  1 2016-01-01 09:51:15.774000+00:00   \n",
            "4            3                  1 2016-01-01 09:52:36.392000+00:00   \n",
            "5            4                  1 2016-01-01 09:52:36.403000+00:00   \n",
            "6            5                  1 2016-01-01 09:52:36.413000+00:00   \n",
            "7            6                  2 2016-01-01 10:16:11.500000+00:00   \n",
            "8            6                  2 2016-01-01 10:16:11.500000+00:00   \n",
            "9            7                  2 2016-01-01 10:16:11.549000+00:00   \n",
            "10           8                  2 2016-01-01 10:16:11.740000+00:00   \n",
            "11           9                  2 2016-01-01 10:17:31.573000+00:00   \n",
            "12          10                  2 2016-01-01 10:17:31.584000+00:00   \n",
            "13          11                  2 2016-01-01 10:17:31.594000+00:00   \n",
            "14          12                  3 2016-01-01 11:19:38.177000+00:00   \n",
            "15          12                  3 2016-01-01 11:19:38.177000+00:00   \n",
            "16          13                  3 2016-01-01 11:19:38.235000+00:00   \n",
            "17          14                  3 2016-01-01 11:19:38.914000+00:00   \n",
            "18          15                  3 2016-01-01 11:20:37.391000+00:00   \n",
            "19          16                  3 2016-01-01 11:20:37.409000+00:00   \n",
            "\n",
            "    concept:name  log_ts_pre  trace_ts_pre  trace_ts_start  event_idx  \n",
            "0              2   -0.067118     -0.266169       -1.054783          1  \n",
            "1              4   -0.067118     -0.266169       -1.054783          2  \n",
            "2              5   -0.067086     -0.266168       -1.054783          3  \n",
            "3              6   -0.066834     -0.266164       -1.054782          4  \n",
            "4              6   -0.012960     -0.265198       -1.054590          5  \n",
            "5              7   -0.067110     -0.266168       -1.054590          6  \n",
            "6              8   -0.067111     -0.266168       -1.054590          7  \n",
            "7              2    0.883512     -0.266169       -1.054783          8  \n",
            "8              4    0.883512     -0.266169       -1.054783          9  \n",
            "9              5   -0.067085     -0.266168       -1.054783         10  \n",
            "10             6   -0.066990     -0.266166       -1.054783         11  \n",
            "11             6   -0.013487     -0.265207       -1.054593         12  \n",
            "12             7   -0.067110     -0.266168       -1.054593         13  \n",
            "13             8   -0.067111     -0.266168       -1.054593         14  \n",
            "14             2    2.436334     -0.266169       -1.054783         15  \n",
            "15             4    2.436334     -0.266169       -1.054783         16  \n",
            "16             5   -0.067079     -0.266168       -1.054783         17  \n",
            "17             6   -0.066662     -0.266160       -1.054781         18  \n",
            "18             6   -0.027834     -0.265464       -1.054642         19  \n",
            "19             7   -0.067106     -0.266168       -1.054642         20  \n",
            "{'SOC': 2, 'EOC': 3, 'A_Create Application': 4, 'A_Submitted': 5, 'W_Handle leads': 6, 'W_Complete application': 7, 'A_Concept': 8, 'A_Accepted': 9, 'O_Create Offer': 10, 'O_Created': 11, 'O_Sent (mail and online)': 12, 'W_Call after offers': 13, 'A_Complete': 14, 'O_Cancelled': 15, 'O_Sent (online only)': 16, 'W_Validate application': 17, 'A_Validating': 18, 'O_Returned': 19, 'W_Call incomplete files': 20, 'A_Incomplete': 21, 'A_Cancelled': 22, 'O_Accepted': 23, 'A_Pending': 24, 'A_Denied': 25, 'O_Refused': 26, 'W_Assess potential fraud': 27}\n"
          ]
        }
      ]
    },
    {
      "cell_type": "code",
      "source": [
        "_, split_idx = get_train_test_split_point(df, test_ratio,\n",
        "                                                case_id=case_id, timestamp=timestamp)\n",
        "print(split_idx)\n",
        "print(df[split_idx-20:split_idx])\n",
        "print(df[split_idx:split_idx+20])"
      ],
      "metadata": {
        "colab": {
          "base_uri": "https://localhost:8080/"
        },
        "id": "bIuu0pnAwKqC",
        "outputId": "23dac222-a864-48a7-fee9-e978eaacc2f7"
      },
      "execution_count": null,
      "outputs": [
        {
          "output_type": "stream",
          "name": "stdout",
          "text": [
            "50462\n",
            "       Unnamed: 0  case:concept:name                   time:timestamp  \\\n",
            "50442       48082               1363 2016-01-26 10:02:26.587000+00:00   \n",
            "50443       48083               1363 2016-01-26 10:02:26.599000+00:00   \n",
            "50444       48084               1363 2016-01-26 10:02:26.603000+00:00   \n",
            "50445       48085               1363 2016-01-26 10:02:27.556000+00:00   \n",
            "50446       48086                856 2016-01-26 10:03:02.691000+00:00   \n",
            "50447       48087                856 2016-01-26 10:03:02.697000+00:00   \n",
            "50448       48088                856 2016-01-26 10:03:02.699000+00:00   \n",
            "50449       48089                856 2016-01-26 10:03:03.578000+00:00   \n",
            "50450       48090                856 2016-01-26 10:03:26.108000+00:00   \n",
            "50451       48091               1363 2016-01-26 10:03:27.015000+00:00   \n",
            "50452       48092               1792 2016-01-26 10:03:35.401000+00:00   \n",
            "50453       48093               1800 2016-01-26 10:03:36.964000+00:00   \n",
            "50454       48094               1800 2016-01-26 10:03:38.217000+00:00   \n",
            "50455       48095               1800 2016-01-26 10:03:48.418000+00:00   \n",
            "50456       48096               1800 2016-01-26 10:03:48.489000+00:00   \n",
            "50457       48097               1800 2016-01-26 10:03:48.569000+00:00   \n",
            "50458       48098               1800 2016-01-26 10:03:48.590000+00:00   \n",
            "50459       48099               1800 2016-01-26 10:03:48.595000+00:00   \n",
            "50460       48100               1774 2016-01-26 10:04:10.876000+00:00   \n",
            "50461       48101               1363 2016-01-26 10:04:15.159000+00:00   \n",
            "\n",
            "       concept:name  log_ts_pre  trace_ts_pre  trace_ts_start  event_idx  \n",
            "50442            13   -0.064361      0.822989        0.194214      50443  \n",
            "50443            17   -0.067110     -0.266168        0.194214      50444  \n",
            "50444            17   -0.067115     -0.266169        0.194214      50445  \n",
            "50445            18   -0.066478     -0.266157        0.194216      50446  \n",
            "50446            13   -0.043515      8.141491        1.620609      50447  \n",
            "50447            17   -0.067114     -0.266169        1.620609      50448  \n",
            "50448            17   -0.067116     -0.266169        1.620609      50449  \n",
            "50449            18   -0.066527     -0.266158        1.620611      50450  \n",
            "50450            19   -0.051983     -0.265897        1.620664      50451  \n",
            "50451            19   -0.066509     -0.265453        0.194358      50452  \n",
            "50452             7   -0.061484     -0.164288       -1.034516      50453  \n",
            "50453            10   -0.066068     -0.264715       -1.054315      50454  \n",
            "50454            11   -0.066276     -0.266154       -1.054312      50455  \n",
            "50455            12   -0.060265     -0.266046       -1.054288      50456  \n",
            "50456             7   -0.067070     -0.266168       -1.054288      50457  \n",
            "50457            13   -0.067064     -0.266168       -1.054287      50458  \n",
            "50458            13   -0.067104     -0.266168       -1.054287      50459  \n",
            "50459            14   -0.067114     -0.266169       -1.054287      50460  \n",
            "50460             9   -0.052150     -0.204486       -0.930853      50461  \n",
            "50461            17   -0.064241     -0.265589        0.194473      50462  \n",
            "       Unnamed: 0  case:concept:name                   time:timestamp  \\\n",
            "50462       48102               1801 2016-01-26 10:05:22.374000+00:00   \n",
            "50463       48102               1801 2016-01-26 10:05:22.374000+00:00   \n",
            "50464       48103               1801 2016-01-26 10:05:22.474000+00:00   \n",
            "50465       48104               1801 2016-01-26 10:05:23.087000+00:00   \n",
            "50466       48105                949 2016-01-26 10:05:23.433000+00:00   \n",
            "50467       48106                949 2016-01-26 10:05:23.475000+00:00   \n",
            "50468       48107                949 2016-01-26 10:05:23.493000+00:00   \n",
            "50469       48107                949 2016-01-26 10:05:23.493000+00:00   \n",
            "50470       48108               1786 2016-01-26 10:05:25.532000+00:00   \n",
            "50471       48109               1786 2016-01-26 10:05:26.994000+00:00   \n",
            "50472       48110               1786 2016-01-26 10:05:47.888000+00:00   \n",
            "50473       48111               1786 2016-01-26 10:05:47.957000+00:00   \n",
            "50474       48112               1786 2016-01-26 10:05:47.980000+00:00   \n",
            "50475       48113               1786 2016-01-26 10:05:47.994000+00:00   \n",
            "50476       48114               1786 2016-01-26 10:05:48.001000+00:00   \n",
            "50477       48115               1801 2016-01-26 10:06:36.391000+00:00   \n",
            "50478       48116               1801 2016-01-26 10:06:36.417000+00:00   \n",
            "50479       48117               1801 2016-01-26 10:06:36.423000+00:00   \n",
            "50480       48118               1151 2016-01-26 10:07:19.568000+00:00   \n",
            "50481       48119               1151 2016-01-26 10:07:19.574000+00:00   \n",
            "\n",
            "       concept:name  log_ts_pre  trace_ts_pre  trace_ts_start  event_idx  \n",
            "50462             2   -0.021964     -0.266169       -1.054783      50463  \n",
            "50463             4   -0.021964     -0.266169       -1.054783      50464  \n",
            "50464             5   -0.067051     -0.266167       -1.054783      50465  \n",
            "50465             6   -0.066706     -0.266161       -1.054781      50466  \n",
            "50466            25   -0.066885     -0.263504        1.374928      50467  \n",
            "50467            26   -0.067090     -0.266168        1.374928      50468  \n",
            "50468             3   -0.067106     -0.266168        1.374928      50469  \n",
            "50469            17   -0.067106     -0.266168        1.374928      50470  \n",
            "50470            10   -0.065748     -0.263196       -0.954767      50471  \n",
            "50471            11   -0.066136     -0.266151       -0.954764      50472  \n",
            "50472            12   -0.053082     -0.265917       -0.954714      50473  \n",
            "50473             7   -0.067071     -0.266168       -0.954714      50474  \n",
            "50474            13   -0.067102     -0.266168       -0.954714      50475  \n",
            "50475            13   -0.067108     -0.266168       -0.954714      50476  \n",
            "50476            14   -0.067113     -0.266169       -0.954714      50477  \n",
            "50477             6   -0.034610     -0.265286       -1.054607      50478  \n",
            "50478             7   -0.067100     -0.266168       -1.054607      50479  \n",
            "50479             8   -0.067114     -0.266169       -1.054607      50480  \n",
            "50480            13   -0.038134      3.584794        0.712952      50481  \n",
            "50481            17   -0.067114     -0.266169        0.712952      50482  \n"
          ]
        }
      ]
    },
    {
      "cell_type": "code",
      "source": [
        "# 9. Create test_log_prefix_tensor, test_trace_prefix_tensor, test_suffix_act_tensor, test_suffix_time_tensor\n",
        "test_log_prefix_tensor = create_log_prefix_tensor(df, log_prefix_length, set_name, test_ratio, num_act,\n",
        "                                                    log_col_name, categorical_features, case_id, timestamp, event_name)\n",
        "print(test_log_prefix_tensor.shape)\n",
        "print(test_log_prefix_tensor[:5])"
      ],
      "metadata": {
        "id": "I4648K6Lm5eO",
        "colab": {
          "base_uri": "https://localhost:8080/"
        },
        "outputId": "8c949362-2354-4459-fdd9-6e564ca868f0"
      },
      "execution_count": null,
      "outputs": [
        {
          "output_type": "stream",
          "name": "stdout",
          "text": [
            "torch.Size([32015, 30, 29])\n",
            "tensor([[[ 0.00,  0.00,  0.00,  ...,  0.00,  0.00, -0.07],\n",
            "         [ 0.00,  0.00,  0.00,  ...,  0.00,  0.00, -0.06],\n",
            "         [ 0.00,  0.00,  0.00,  ...,  0.00,  0.00, -0.05],\n",
            "         ...,\n",
            "         [ 0.00,  0.00,  0.00,  ...,  0.00,  0.00, -0.05],\n",
            "         [ 0.00,  0.00,  0.00,  ...,  0.00,  0.00, -0.06],\n",
            "         [ 0.00,  0.00,  1.00,  ...,  0.00,  0.00, -0.02]],\n",
            "\n",
            "        [[ 0.00,  0.00,  0.00,  ...,  0.00,  0.00, -0.06],\n",
            "         [ 0.00,  0.00,  0.00,  ...,  0.00,  0.00, -0.05],\n",
            "         [ 0.00,  0.00,  0.00,  ...,  0.00,  0.00, -0.07],\n",
            "         ...,\n",
            "         [ 0.00,  0.00,  0.00,  ...,  0.00,  0.00, -0.06],\n",
            "         [ 0.00,  0.00,  1.00,  ...,  0.00,  0.00, -0.02],\n",
            "         [ 0.00,  0.00,  0.00,  ...,  0.00,  0.00, -0.02]],\n",
            "\n",
            "        [[ 0.00,  0.00,  0.00,  ...,  0.00,  0.00, -0.05],\n",
            "         [ 0.00,  0.00,  0.00,  ...,  0.00,  0.00, -0.07],\n",
            "         [ 0.00,  0.00,  0.00,  ...,  0.00,  0.00, -0.06],\n",
            "         ...,\n",
            "         [ 0.00,  0.00,  1.00,  ...,  0.00,  0.00, -0.02],\n",
            "         [ 0.00,  0.00,  0.00,  ...,  0.00,  0.00, -0.02],\n",
            "         [ 0.00,  0.00,  0.00,  ...,  0.00,  0.00, -0.07]],\n",
            "\n",
            "        [[ 0.00,  0.00,  0.00,  ...,  0.00,  0.00, -0.07],\n",
            "         [ 0.00,  0.00,  0.00,  ...,  0.00,  0.00, -0.06],\n",
            "         [ 0.00,  0.00,  0.00,  ...,  0.00,  0.00, -0.06],\n",
            "         ...,\n",
            "         [ 0.00,  0.00,  0.00,  ...,  0.00,  0.00, -0.02],\n",
            "         [ 0.00,  0.00,  0.00,  ...,  0.00,  0.00, -0.07],\n",
            "         [ 0.00,  0.00,  0.00,  ...,  0.00,  0.00, -0.07]],\n",
            "\n",
            "        [[ 0.00,  0.00,  0.00,  ...,  0.00,  0.00, -0.06],\n",
            "         [ 0.00,  0.00,  0.00,  ...,  0.00,  0.00, -0.06],\n",
            "         [ 0.00,  0.00,  0.00,  ...,  0.00,  0.00, -0.06],\n",
            "         ...,\n",
            "         [ 0.00,  0.00,  0.00,  ...,  0.00,  0.00, -0.07],\n",
            "         [ 0.00,  0.00,  0.00,  ...,  0.00,  0.00, -0.07],\n",
            "         [ 0.00,  0.00,  0.00,  ...,  0.00,  0.00, -0.07]]])\n"
          ]
        }
      ]
    },
    {
      "cell_type": "code",
      "source": [
        "test_trace_prefix_tensor = create_trace_prefix_tensor(df, trace_prefix_length, set_name, test_ratio, num_act,\n",
        "                                                      trace_prefix_col_name, categorical_features, event_idx, case_id, timestamp, event_name)\n",
        "print(test_trace_prefix_tensor.shape)\n",
        "print(test_trace_prefix_tensor[:5])"
      ],
      "metadata": {
        "id": "gdQ6ku_Tm9uI",
        "colab": {
          "base_uri": "https://localhost:8080/"
        },
        "outputId": "4d060342-5143-41d4-fb30-c7b46b84d6eb"
      },
      "execution_count": null,
      "outputs": [
        {
          "output_type": "stream",
          "name": "stdout",
          "text": [
            "torch.Size([32015, 15, 30])\n",
            "tensor([[[     0.00,      0.00,      0.00,  ...,      0.00, -10000.00,\n",
            "          -10000.00],\n",
            "         [     0.00,      0.00,      0.00,  ...,      0.00, -10000.00,\n",
            "          -10000.00],\n",
            "         [     0.00,      0.00,      0.00,  ...,      0.00, -10000.00,\n",
            "          -10000.00],\n",
            "         ...,\n",
            "         [     0.00,      0.00,      0.00,  ...,      0.00, -10000.00,\n",
            "          -10000.00],\n",
            "         [     0.00,      0.00,      0.00,  ...,      0.00, -10000.00,\n",
            "          -10000.00],\n",
            "         [     0.00,      0.00,      1.00,  ...,      0.00,     -0.27,\n",
            "              -1.05]],\n",
            "\n",
            "        [[     0.00,      0.00,      0.00,  ...,      0.00, -10000.00,\n",
            "          -10000.00],\n",
            "         [     0.00,      0.00,      0.00,  ...,      0.00, -10000.00,\n",
            "          -10000.00],\n",
            "         [     0.00,      0.00,      0.00,  ...,      0.00, -10000.00,\n",
            "          -10000.00],\n",
            "         ...,\n",
            "         [     0.00,      0.00,      0.00,  ...,      0.00, -10000.00,\n",
            "          -10000.00],\n",
            "         [     0.00,      0.00,      1.00,  ...,      0.00,     -0.27,\n",
            "              -1.05],\n",
            "         [     0.00,      0.00,      0.00,  ...,      0.00,     -0.27,\n",
            "              -1.05]],\n",
            "\n",
            "        [[     0.00,      0.00,      0.00,  ...,      0.00, -10000.00,\n",
            "          -10000.00],\n",
            "         [     0.00,      0.00,      0.00,  ...,      0.00, -10000.00,\n",
            "          -10000.00],\n",
            "         [     0.00,      0.00,      0.00,  ...,      0.00, -10000.00,\n",
            "          -10000.00],\n",
            "         ...,\n",
            "         [     0.00,      0.00,      1.00,  ...,      0.00,     -0.27,\n",
            "              -1.05],\n",
            "         [     0.00,      0.00,      0.00,  ...,      0.00,     -0.27,\n",
            "              -1.05],\n",
            "         [     0.00,      0.00,      0.00,  ...,      0.00,     -0.27,\n",
            "              -1.05]],\n",
            "\n",
            "        [[     0.00,      0.00,      0.00,  ...,      0.00, -10000.00,\n",
            "          -10000.00],\n",
            "         [     0.00,      0.00,      0.00,  ...,      0.00, -10000.00,\n",
            "          -10000.00],\n",
            "         [     0.00,      0.00,      0.00,  ...,      0.00, -10000.00,\n",
            "          -10000.00],\n",
            "         ...,\n",
            "         [     0.00,      0.00,      0.00,  ...,      0.00,     -0.27,\n",
            "              -1.05],\n",
            "         [     0.00,      0.00,      0.00,  ...,      0.00,     -0.27,\n",
            "              -1.05],\n",
            "         [     0.00,      0.00,      0.00,  ...,      0.00,     -0.27,\n",
            "              -1.05]],\n",
            "\n",
            "        [[     0.00,      0.00,      0.00,  ...,      0.00,     -0.27,\n",
            "               1.21],\n",
            "         [     0.00,      0.00,      0.00,  ...,      0.00,     -0.27,\n",
            "               1.21],\n",
            "         [     0.00,      0.00,      0.00,  ...,      0.00,     -0.27,\n",
            "               1.21],\n",
            "         ...,\n",
            "         [     0.00,      0.00,      0.00,  ...,      0.00,     -0.26,\n",
            "               1.37],\n",
            "         [     0.00,      0.00,      0.00,  ...,      0.00,     -0.26,\n",
            "               1.37],\n",
            "         [     0.00,      0.00,      0.00,  ...,      0.00,     -0.26,\n",
            "               1.37]]])\n"
          ]
        }
      ]
    },
    {
      "cell_type": "code",
      "source": [
        "test_suffix_act_tensor, test_suffix_time_tensor = create_trace_suffix_tensor(df, trace_suffix_length, set_name, test_ratio,\n",
        "                                                                                trace_suffix_col_name, categorical_features, event_idx, case_id, timestamp, event_name)\n",
        "print(test_suffix_act_tensor.shape)\n",
        "print(test_suffix_act_tensor[:5])"
      ],
      "metadata": {
        "id": "h3YwtFounUn_",
        "colab": {
          "base_uri": "https://localhost:8080/"
        },
        "outputId": "f032eee9-06c6-423b-9543-66d285daeac5"
      },
      "execution_count": null,
      "outputs": [
        {
          "output_type": "stream",
          "name": "stdout",
          "text": [
            "torch.Size([32015, 35])\n",
            "tensor([[ 4,  5,  6,  6,  7,  8,  7,  9, 10, 11, 12,  7, 13, 13, 14, 13, 13, 13,\n",
            "         13, 17, 17, 18, 19, 17, 17, 17, 17, 17, 17, 17, 20, 20, 21, 20, 20],\n",
            "        [ 5,  6,  6,  7,  8,  7,  9, 10, 11, 12,  7, 13, 13, 14, 13, 13, 13, 13,\n",
            "         17, 17, 18, 19, 17, 17, 17, 17, 17, 17, 17, 20, 20, 21, 20, 20, 20],\n",
            "        [ 6,  6,  7,  8,  7,  9, 10, 11, 12,  7, 13, 13, 14, 13, 13, 13, 13, 17,\n",
            "         17, 18, 19, 17, 17, 17, 17, 17, 17, 17, 20, 20, 21, 20, 20, 20, 20],\n",
            "        [ 6,  7,  8,  7,  9, 10, 11, 12,  7, 13, 13, 14, 13, 13, 13, 13, 17, 17,\n",
            "         18, 19, 17, 17, 17, 17, 17, 17, 17, 20, 20, 21, 20, 20, 20, 20, 17],\n",
            "        [26,  3, 17,  0,  0,  0,  0,  0,  0,  0,  0,  0,  0,  0,  0,  0,  0,  0,\n",
            "          0,  0,  0,  0,  0,  0,  0,  0,  0,  0,  0,  0,  0,  0,  0,  0,  0]])\n"
          ]
        }
      ]
    },
    {
      "cell_type": "code",
      "source": [
        "print(test_suffix_time_tensor.shape)\n",
        "print(test_suffix_time_tensor[:5])"
      ],
      "metadata": {
        "colab": {
          "base_uri": "https://localhost:8080/"
        },
        "id": "0H1BpIZtUhLN",
        "outputId": "c7e5afe3-339c-4998-a24a-bb51bce4477c"
      },
      "execution_count": null,
      "outputs": [
        {
          "output_type": "stream",
          "name": "stdout",
          "text": [
            "torch.Size([32015, 35])\n",
            "tensor([[    -0.27,     -0.27,     -0.27,     -0.27,     -0.27,     -0.27,\n",
            "             -0.24,     -0.26,     -0.26,     -0.27,     -0.26,     -0.27,\n",
            "             -0.27,     -0.27,     -0.27,     -0.27,      3.84,     -0.27,\n",
            "              1.84,     -0.27,     -0.27,     -0.27,     -0.27,     -0.26,\n",
            "              1.66,     -0.27,     -0.10,     -0.26,     -0.16,     -0.26,\n",
            "             -0.27,     -0.27,     -0.27,     -0.27,     -0.08],\n",
            "        [    -0.27,     -0.27,     -0.27,     -0.27,     -0.27,     -0.24,\n",
            "             -0.26,     -0.26,     -0.27,     -0.26,     -0.27,     -0.27,\n",
            "             -0.27,     -0.27,     -0.27,      3.84,     -0.27,      1.84,\n",
            "             -0.27,     -0.27,     -0.27,     -0.27,     -0.26,      1.66,\n",
            "             -0.27,     -0.10,     -0.26,     -0.16,     -0.26,     -0.27,\n",
            "             -0.27,     -0.27,     -0.27,     -0.08,     -0.26],\n",
            "        [    -0.27,     -0.27,     -0.27,     -0.27,     -0.24,     -0.26,\n",
            "             -0.26,     -0.27,     -0.26,     -0.27,     -0.27,     -0.27,\n",
            "             -0.27,     -0.27,      3.84,     -0.27,      1.84,     -0.27,\n",
            "             -0.27,     -0.27,     -0.27,     -0.26,      1.66,     -0.27,\n",
            "             -0.10,     -0.26,     -0.16,     -0.26,     -0.27,     -0.27,\n",
            "             -0.27,     -0.27,     -0.08,     -0.26,      0.39],\n",
            "        [    -0.27,     -0.27,     -0.27,     -0.24,     -0.26,     -0.26,\n",
            "             -0.27,     -0.26,     -0.27,     -0.27,     -0.27,     -0.27,\n",
            "             -0.27,      3.84,     -0.27,      1.84,     -0.27,     -0.27,\n",
            "             -0.27,     -0.27,     -0.26,      1.66,     -0.27,     -0.10,\n",
            "             -0.26,     -0.16,     -0.26,     -0.27,     -0.27,     -0.27,\n",
            "             -0.27,     -0.08,     -0.26,      0.39,     -0.27],\n",
            "        [    -0.27,     -0.27,     -0.27, -10000.00, -10000.00, -10000.00,\n",
            "         -10000.00, -10000.00, -10000.00, -10000.00, -10000.00, -10000.00,\n",
            "         -10000.00, -10000.00, -10000.00, -10000.00, -10000.00, -10000.00,\n",
            "         -10000.00, -10000.00, -10000.00, -10000.00, -10000.00, -10000.00,\n",
            "         -10000.00, -10000.00, -10000.00, -10000.00, -10000.00, -10000.00,\n",
            "         -10000.00, -10000.00, -10000.00, -10000.00, -10000.00]])\n"
          ]
        }
      ]
    },
    {
      "cell_type": "code",
      "source": [
        "# 10. Build TensorDataset\n",
        "test_dataset = TensorDataset(test_log_prefix_tensor, test_trace_prefix_tensor, test_suffix_act_tensor, test_suffix_time_tensor)\n",
        "print(len(test_dataset))"
      ],
      "metadata": {
        "id": "PyHeH8hmncw3",
        "colab": {
          "base_uri": "https://localhost:8080/"
        },
        "outputId": "4354cd20-5764-482d-f375-c0358f6d9a8b"
      },
      "execution_count": null,
      "outputs": [
        {
          "output_type": "stream",
          "name": "stdout",
          "text": [
            "32015\n"
          ]
        }
      ]
    },
    {
      "cell_type": "code",
      "source": [
        "# 11. Build test_dataloader, valid_dataloader\n",
        "test_dataloader = DataLoader(test_dataset, batch_size=64, shuffle=True)"
      ],
      "metadata": {
        "id": "16ukNKpInmli"
      },
      "execution_count": null,
      "outputs": []
    },
    {
      "cell_type": "markdown",
      "source": [
        "# Run experiment"
      ],
      "metadata": {
        "id": "Mn1UXQKTB-8n"
      }
    },
    {
      "cell_type": "code",
      "source": [
        "device = torch.device(\"cuda\" if torch.cuda.is_available() else \"cpu\")\n",
        "\n",
        "num_act = 28\n",
        "\n",
        "learning_rate = 0.01\n",
        "\n",
        "num_epochs = 10\n",
        "\n",
        "num_layers = 4\n",
        "\n",
        "enc_hidden_size = 50\n",
        "log_enc_input_size = num_act + 1\n",
        "trace_enc_input_size = num_act + 2\n",
        "\n",
        "dec_hidden_size = 50 # For seq2seq log , seq2seq trace, seq2seq add, seq2seq mul\n",
        "dec_cat_hidden_size = 100 # For seq2seq cat\n",
        "\n",
        "act_dec_input_size = num_act\n",
        "act_dec_output_size = num_act\n",
        "\n",
        "time_dec_input_size = 1\n",
        "time_dec_output_size = 1"
      ],
      "metadata": {
        "id": "jNByknYFCBBR"
      },
      "execution_count": null,
      "outputs": []
    },
    {
      "cell_type": "code",
      "source": [
        "log_encoder = Encoder(input_size=log_enc_input_size,\n",
        "                      hidden_size=enc_hidden_size,\n",
        "                      num_layers=num_layers).to(device)\n",
        "\n",
        "trace_encoder = Encoder(input_size=trace_enc_input_size,\n",
        "                        hidden_size=enc_hidden_size,\n",
        "                        num_layers=num_layers).to(device)\n",
        "\n",
        "act_decoder = Decoder(input_size=act_dec_input_size,\n",
        "                      hidden_size=dec_hidden_size,\n",
        "                      output_size=act_dec_output_size,\n",
        "                      num_layers=num_layers).to(device)\n",
        "\n",
        "time_decoder = Decoder(input_size=time_dec_input_size,\n",
        "                      hidden_size=dec_hidden_size,\n",
        "                      output_size=time_dec_output_size,\n",
        "                      num_layers=num_layers).to(device)\n",
        "\n",
        "act_cat_decoder = Decoder(input_size=act_dec_input_size,\n",
        "                      hidden_size=dec_cat_hidden_size,\n",
        "                      output_size=act_dec_output_size,\n",
        "                      num_layers=num_layers).to(device)\n",
        "\n",
        "time_cat_decoder = Decoder(input_size=time_dec_input_size,\n",
        "                      hidden_size=dec_cat_hidden_size,\n",
        "                      output_size=time_dec_output_size,\n",
        "                      num_layers=num_layers).to(device)"
      ],
      "metadata": {
        "id": "mZbwPdnzDGrB"
      },
      "execution_count": null,
      "outputs": []
    },
    {
      "cell_type": "code",
      "source": [
        "def training(model, dataloader, teacher_forcing_ratio=0.5):\n",
        "\n",
        "    model.train()\n",
        "\n",
        "    # Define optimizer\n",
        "    optimizer = optim.Adam(model.parameters(), lr=learning_rate)\n",
        "\n",
        "    # Define loss function\n",
        "    act_criterion = nn.CrossEntropyLoss(ignore_index=0)\n",
        "    time_criterion = nn.L1Loss()\n",
        "\n",
        "    for epoch in range(num_epochs):\n",
        "\n",
        "        epoch_loss = 0\n",
        "\n",
        "        for batch in dataloader:\n",
        "\n",
        "            train_log_prefix, train_trace_prefix, train_suffix_act, train_suffix_time = batch\n",
        "            train_log_prefix = train_log_prefix.float().to(device)\n",
        "            train_trace_prefix = train_trace_prefix.float().to(device)\n",
        "            train_suffix_act = train_suffix_act.to(torch.long).to(device)\n",
        "            train_suffix_time = train_suffix_time.float().to(device)\n",
        "            # train_log_prefix: batch_size, log_prefix_len, num_act + 1\n",
        "            # train_trace_prefix: batch_size, trace_prefix_len, num_act + 2\n",
        "            # train_suffix_act: batch_size, suffix_len\n",
        "            # train_suffi_time: batch_size, suffix_len\n",
        "\n",
        "            optimizer.zero_grad()\n",
        "\n",
        "            if model == model_log:\n",
        "                act_predictions, time_predictions = model(train_log_prefix, train_suffix_act, train_suffix_time, teacher_forcing_ratio)\n",
        "\n",
        "            elif model == model_trace:\n",
        "                act_predictions, time_predictions = model(train_trace_prefix, train_suffix_act, train_suffix_time, teacher_forcing_ratio)\n",
        "\n",
        "            else:\n",
        "                act_predictions, time_predictions = model(train_log_prefix, train_trace_prefix, train_suffix_act, train_suffix_time, teacher_forcing_ratio)\n",
        "\n",
        "            act_predictions = act_predictions.to(device)\n",
        "            # act_predictions shape: batch_size, suffix_len, num_act\n",
        "            time_predictions = time_predictions.to(device)\n",
        "            # time_predictions shape: batch_size, suffix_len, 1\n",
        "\n",
        "            # Mask time padding\n",
        "            train_suffix_time = train_suffix_time.unsqueeze(-1)\n",
        "            # train_suffix_time shape: batch_size, suffix_len, 1\n",
        "            mask = (train_suffix_time != -10000).to(device)\n",
        "            masked_train_suffix_time = torch.masked_select(train_suffix_time, mask) # The result is a 1D tensor\n",
        "            masked_time_predictions = torch.masked_select(time_predictions, mask) # The result is a 1D tensor\n",
        "\n",
        "            # Reshape act_predictions and train_suffix_act\n",
        "            act_predictions = act_predictions.view(-1, act_predictions.size(-1))  # Shape: (batch_size * seq_length, num_classes)\n",
        "            train_suffix_act = train_suffix_act.view(-1)  # Shape: (batch_size * seq_length)\n",
        "\n",
        "            act_loss = act_criterion(act_predictions, train_suffix_act)\n",
        "            time_loss = time_criterion(masked_time_predictions, masked_train_suffix_time)\n",
        "\n",
        "            loss = 0.5 * act_loss + 0.5 * time_loss\n",
        "\n",
        "            loss.backward()\n",
        "\n",
        "            optimizer.step()\n",
        "\n",
        "            epoch_loss += loss.item()\n",
        "\n",
        "        avg_epoch_loss = epoch_loss / len(dataloader)\n",
        "        if (epoch + 1) % 10 == 0:\n",
        "          print(f\"Epoch {epoch+1}/{num_epochs}, Average Loss: {avg_epoch_loss:.4f}\")"
      ],
      "metadata": {
        "id": "ESNfV6erUoA4"
      },
      "execution_count": null,
      "outputs": []
    },
    {
      "cell_type": "code",
      "source": [
        "def evaluation(model, dataloader, teacher_forcing_ratio=0.5):\n",
        "\n",
        "    model.eval()\n",
        "    epoch_loss = 0\n",
        "\n",
        "    time_criterion = nn.L1Loss()\n",
        "\n",
        "    with torch.no_grad():\n",
        "\n",
        "        for batch in dataloader:\n",
        "\n",
        "            test_log_prefix, test_trace_prefix, test_suffix_act, test_suffix_time = batch\n",
        "            test_log_prefix = test_log_prefix.float().to(device)\n",
        "            test_trace_prefix = test_trace_prefix.float().to(device)\n",
        "            test_suffix_act = test_suffix_act.to(torch.long).to(device)\n",
        "            test_suffix_time = test_suffix_time.float().to(device)\n",
        "            # test_log_prefix: batch_size, log_prefix_len, num_act + 1\n",
        "            # test_trace_prefix: batch_size, trace_prefix_len, num_act + 2\n",
        "            # test_suffix_act: batch_size, suffix_len\n",
        "            # test_suffi_time: batch_size, suffix_len\n",
        "\n",
        "            if model == model_log:\n",
        "                act_predictions, time_predictions = model(test_log_prefix, test_suffix_act, test_suffix_time, teacher_forcing_ratio)\n",
        "\n",
        "            elif model == model_trace:\n",
        "                act_predictions, time_predictions = model(test_trace_prefix, test_suffix_act, test_suffix_time, teacher_forcing_ratio)\n",
        "\n",
        "            else:\n",
        "                act_predictions, time_predictions = model(test_log_prefix, test_trace_prefix, test_suffix_act, test_suffix_time, teacher_forcing_ratio)\n",
        "\n",
        "            act_predictions = act_predictions.to(device)\n",
        "            # act_predictions shape: batch_size, suffix_len, num_act\n",
        "            time_predictions = time_predictions.to(device)\n",
        "            # time_predictions shape: batch_size, suffix_len, 1\n",
        "\n",
        "            # Mask time padding\n",
        "            test_suffix_time = test_suffix_time.unsqueeze(-1)\n",
        "            # train_suffix_time shape: batch_size, suffix_len, 1\n",
        "            mask = (test_suffix_time != -10000).to(device)\n",
        "            masked_test_suffix_time = torch.masked_select(test_suffix_time, mask) # The result is a 1D tensor\n",
        "            masked_time_predictions = torch.masked_select(time_predictions, mask) # The result is a 1D tensor\n",
        "\n",
        "            act_loss = normalized_DL_distance(act_predictions, test_suffix_act)\n",
        "            time_loss = time_criterion(masked_time_predictions, masked_test_suffix_time)\n",
        "\n",
        "            loss = 0.5 * act_loss + 0.5 * time_loss\n",
        "\n",
        "            epoch_loss += loss.item()\n",
        "\n",
        "        return epoch_loss / len(dataloader)"
      ],
      "metadata": {
        "id": "bliRl3dy6vfm"
      },
      "execution_count": null,
      "outputs": []
    },
    {
      "cell_type": "code",
      "source": [
        "model_log = Seq2Seq_one_input(num_act=num_act,\n",
        "                              encoder=log_encoder,\n",
        "                              act_decoder=act_decoder,\n",
        "                              time_decoder=time_decoder).to(device)"
      ],
      "metadata": {
        "id": "mLGIr6Qb8BnE"
      },
      "execution_count": null,
      "outputs": []
    },
    {
      "cell_type": "code",
      "source": [
        "training(model_log, train_dataloader)"
      ],
      "metadata": {
        "colab": {
          "base_uri": "https://localhost:8080/"
        },
        "id": "oJ_WX3j6Uq8F",
        "outputId": "9fe99572-d26d-4018-ef8c-89ec506d7b63"
      },
      "execution_count": null,
      "outputs": [
        {
          "output_type": "stream",
          "name": "stdout",
          "text": [
            "Epoch 10/10, Average Loss: 0.5055\n"
          ]
        }
      ]
    },
    {
      "cell_type": "code",
      "source": [
        "torch.save(model_log.state_dict(), 'model_log_checkpoint.pth')"
      ],
      "metadata": {
        "id": "BOysat-FC0rf"
      },
      "execution_count": null,
      "outputs": []
    },
    {
      "cell_type": "code",
      "source": [
        "model_log.load_state_dict(torch.load('model_log_checkpoint.pth'))"
      ],
      "metadata": {
        "id": "WDIQjQ6GC3L4"
      },
      "execution_count": null,
      "outputs": []
    },
    {
      "cell_type": "code",
      "source": [
        "test_loss = evaluation(model_log, test_dataloader)\n",
        "print(test_loss)"
      ],
      "metadata": {
        "colab": {
          "base_uri": "https://localhost:8080/"
        },
        "id": "UgZlfgE78JY9",
        "outputId": "e79ba323-2030-47e3-88b8-d5fb12915b70"
      },
      "execution_count": null,
      "outputs": [
        {
          "output_type": "stream",
          "name": "stdout",
          "text": [
            "0.4196525403482471\n"
          ]
        }
      ]
    },
    {
      "cell_type": "code",
      "source": [
        "model_trace = Seq2Seq_one_input(num_act=num_act,\n",
        "                                encoder=trace_encoder,\n",
        "                                act_decoder=act_decoder,\n",
        "                                time_decoder=time_decoder).to(device)"
      ],
      "metadata": {
        "id": "BgPSflf68C_l"
      },
      "execution_count": null,
      "outputs": []
    },
    {
      "cell_type": "code",
      "source": [
        "training(model_trace, train_dataloader)"
      ],
      "metadata": {
        "colab": {
          "base_uri": "https://localhost:8080/"
        },
        "id": "QJN01cKLkguR",
        "outputId": "afa4fd24-226a-4c44-b5e7-579ad276d033"
      },
      "execution_count": null,
      "outputs": [
        {
          "output_type": "stream",
          "name": "stdout",
          "text": [
            "Epoch 10/10, Average Loss: 0.4750\n"
          ]
        }
      ]
    },
    {
      "cell_type": "code",
      "source": [
        "torch.save(model_trace.state_dict(), 'model_trace_checkpoint.pth')"
      ],
      "metadata": {
        "id": "R9G2T1e-C5z5"
      },
      "execution_count": null,
      "outputs": []
    },
    {
      "cell_type": "code",
      "source": [
        "model_trace.load_state_dict(torch.load('model_trace_checkpoint.pth'))"
      ],
      "metadata": {
        "colab": {
          "base_uri": "https://localhost:8080/"
        },
        "id": "WRT12V8hDS0s",
        "outputId": "d3e759ec-abdf-4610-a200-ecc23e31ed7c"
      },
      "execution_count": null,
      "outputs": [
        {
          "output_type": "stream",
          "name": "stderr",
          "text": [
            "<ipython-input-55-f3af29437025>:1: FutureWarning: You are using `torch.load` with `weights_only=False` (the current default value), which uses the default pickle module implicitly. It is possible to construct malicious pickle data which will execute arbitrary code during unpickling (See https://github.com/pytorch/pytorch/blob/main/SECURITY.md#untrusted-models for more details). In a future release, the default value for `weights_only` will be flipped to `True`. This limits the functions that could be executed during unpickling. Arbitrary objects will no longer be allowed to be loaded via this mode unless they are explicitly allowlisted by the user via `torch.serialization.add_safe_globals`. We recommend you start setting `weights_only=True` for any use case where you don't have full control of the loaded file. Please open an issue on GitHub for any issues related to this experimental feature.\n",
            "  model_trace.load_state_dict(torch.load('model_trace_checkpoint.pth'))\n"
          ]
        },
        {
          "output_type": "execute_result",
          "data": {
            "text/plain": [
              "<All keys matched successfully>"
            ]
          },
          "metadata": {},
          "execution_count": 55
        }
      ]
    },
    {
      "cell_type": "code",
      "source": [
        "test_loss = evaluation(model_trace, test_dataloader)\n",
        "print(test_loss)"
      ],
      "metadata": {
        "colab": {
          "base_uri": "https://localhost:8080/"
        },
        "id": "rfxjuZAH8SwM",
        "outputId": "f066c7de-2cac-41e5-d014-1095e0c1a63d"
      },
      "execution_count": null,
      "outputs": [
        {
          "output_type": "stream",
          "name": "stdout",
          "text": [
            "0.42727932768191645\n"
          ]
        }
      ]
    },
    {
      "cell_type": "code",
      "source": [
        "model_cat = Seq2Seq_cat(num_act=num_act,\n",
        "                        log_encoder=log_encoder,\n",
        "                        trace_encoder=trace_encoder,\n",
        "                        act_cat_decoder=act_cat_decoder,\n",
        "                        time_cat_decoder=time_cat_decoder).to(device)"
      ],
      "metadata": {
        "id": "SI7uJbLC8Esw"
      },
      "execution_count": null,
      "outputs": []
    },
    {
      "cell_type": "code",
      "source": [
        "training(model_cat, train_dataloader)"
      ],
      "metadata": {
        "colab": {
          "base_uri": "https://localhost:8080/"
        },
        "id": "kcUajhsnkmTy",
        "outputId": "252da4cb-0a9e-417c-af94-dc15f065f68d"
      },
      "execution_count": null,
      "outputs": [
        {
          "output_type": "stream",
          "name": "stdout",
          "text": [
            "Epoch 10/10, Average Loss: 0.4717\n"
          ]
        }
      ]
    },
    {
      "cell_type": "code",
      "source": [
        "torch.save(model_cat.state_dict(), 'model_cat_checkpoint.pth')"
      ],
      "metadata": {
        "id": "GHeKgMzNDcnQ"
      },
      "execution_count": null,
      "outputs": []
    },
    {
      "cell_type": "code",
      "source": [
        "model_cat.load_state_dict(torch.load('model_cat_checkpoint.pth'))"
      ],
      "metadata": {
        "colab": {
          "base_uri": "https://localhost:8080/"
        },
        "id": "-2n7geHHDfRl",
        "outputId": "0f658e42-f29f-4567-9d98-4463cca06307"
      },
      "execution_count": null,
      "outputs": [
        {
          "output_type": "stream",
          "name": "stderr",
          "text": [
            "<ipython-input-60-64ff29b293cb>:1: FutureWarning: You are using `torch.load` with `weights_only=False` (the current default value), which uses the default pickle module implicitly. It is possible to construct malicious pickle data which will execute arbitrary code during unpickling (See https://github.com/pytorch/pytorch/blob/main/SECURITY.md#untrusted-models for more details). In a future release, the default value for `weights_only` will be flipped to `True`. This limits the functions that could be executed during unpickling. Arbitrary objects will no longer be allowed to be loaded via this mode unless they are explicitly allowlisted by the user via `torch.serialization.add_safe_globals`. We recommend you start setting `weights_only=True` for any use case where you don't have full control of the loaded file. Please open an issue on GitHub for any issues related to this experimental feature.\n",
            "  model_cat.load_state_dict(torch.load('model_cat_checkpoint.pth'))\n"
          ]
        },
        {
          "output_type": "execute_result",
          "data": {
            "text/plain": [
              "<All keys matched successfully>"
            ]
          },
          "metadata": {},
          "execution_count": 60
        }
      ]
    },
    {
      "cell_type": "code",
      "source": [
        "test_loss = evaluation(model_cat, test_dataloader)\n",
        "print(test_loss)"
      ],
      "metadata": {
        "colab": {
          "base_uri": "https://localhost:8080/"
        },
        "id": "Usc7UQcA8WIk",
        "outputId": "46929823-409a-4c47-c958-1d3a142d9955"
      },
      "execution_count": null,
      "outputs": [
        {
          "output_type": "stream",
          "name": "stdout",
          "text": [
            "0.4245563301140677\n"
          ]
        }
      ]
    },
    {
      "cell_type": "code",
      "source": [
        "model_add = Seq2Seq_add(num_act=num_act,\n",
        "                        log_encoder=log_encoder,\n",
        "                        trace_encoder=trace_encoder,\n",
        "                        act_decoder=act_decoder,\n",
        "                        time_decoder=time_decoder).to(device)"
      ],
      "metadata": {
        "id": "796rxuvv8GUW"
      },
      "execution_count": null,
      "outputs": []
    },
    {
      "cell_type": "code",
      "source": [
        "training(model_add, train_dataloader)"
      ],
      "metadata": {
        "colab": {
          "base_uri": "https://localhost:8080/"
        },
        "id": "Yf28sBg2k1Mp",
        "outputId": "4cf4a42b-f40e-44ac-f80f-8e60444803a0"
      },
      "execution_count": null,
      "outputs": [
        {
          "output_type": "stream",
          "name": "stdout",
          "text": [
            "Epoch 10/10, Average Loss: 0.4640\n"
          ]
        }
      ]
    },
    {
      "cell_type": "code",
      "source": [
        "test_loss = evaluation(model_add, test_dataloader)\n",
        "print(test_loss)"
      ],
      "metadata": {
        "colab": {
          "base_uri": "https://localhost:8080/"
        },
        "id": "oJoNdgKt8Rjq",
        "outputId": "5e914ae7-41e8-461b-998f-7c8d83f800ac"
      },
      "execution_count": null,
      "outputs": [
        {
          "output_type": "stream",
          "name": "stdout",
          "text": [
            "0.41982997843843256\n"
          ]
        }
      ]
    },
    {
      "cell_type": "code",
      "source": [
        "model_mul = Seq2Seq_mul(num_act=num_act,\n",
        "                        log_encoder=log_encoder,\n",
        "                        trace_encoder=trace_encoder,\n",
        "                        act_decoder=act_decoder,\n",
        "                        time_decoder=time_decoder).to(device)"
      ],
      "metadata": {
        "id": "0AT2o6Tf8H1U"
      },
      "execution_count": null,
      "outputs": []
    },
    {
      "cell_type": "code",
      "source": [
        "training(model_mul, train_dataloader)"
      ],
      "metadata": {
        "colab": {
          "base_uri": "https://localhost:8080/"
        },
        "id": "V8AbFb2bk3eC",
        "outputId": "f1fbedcc-ba91-455f-f875-070421d85557"
      },
      "execution_count": null,
      "outputs": [
        {
          "output_type": "stream",
          "name": "stdout",
          "text": [
            "Epoch 10/10, Average Loss: 0.4653\n"
          ]
        }
      ]
    },
    {
      "cell_type": "code",
      "source": [
        "torch.save(model_mul.state_dict(), 'model_mul_checkpoint.pth')"
      ],
      "metadata": {
        "id": "LmYwRh5HESSZ"
      },
      "execution_count": null,
      "outputs": []
    },
    {
      "cell_type": "code",
      "source": [
        "model_mul.load_state_dict(torch.load('model_mul_checkpoint.pth'))"
      ],
      "metadata": {
        "colab": {
          "base_uri": "https://localhost:8080/"
        },
        "id": "Dnc3O_qYESlZ",
        "outputId": "b950da2c-e24e-4bf7-a036-48501b27380b"
      },
      "execution_count": null,
      "outputs": [
        {
          "output_type": "stream",
          "name": "stderr",
          "text": [
            "<ipython-input-69-bce2518012ae>:1: FutureWarning: You are using `torch.load` with `weights_only=False` (the current default value), which uses the default pickle module implicitly. It is possible to construct malicious pickle data which will execute arbitrary code during unpickling (See https://github.com/pytorch/pytorch/blob/main/SECURITY.md#untrusted-models for more details). In a future release, the default value for `weights_only` will be flipped to `True`. This limits the functions that could be executed during unpickling. Arbitrary objects will no longer be allowed to be loaded via this mode unless they are explicitly allowlisted by the user via `torch.serialization.add_safe_globals`. We recommend you start setting `weights_only=True` for any use case where you don't have full control of the loaded file. Please open an issue on GitHub for any issues related to this experimental feature.\n",
            "  model_mul.load_state_dict(torch.load('model_mul_checkpoint.pth'))\n"
          ]
        },
        {
          "output_type": "execute_result",
          "data": {
            "text/plain": [
              "<All keys matched successfully>"
            ]
          },
          "metadata": {},
          "execution_count": 69
        }
      ]
    },
    {
      "cell_type": "code",
      "source": [
        "test_loss = evaluation(model_mul, test_dataloader)\n",
        "print(test_loss)"
      ],
      "metadata": {
        "colab": {
          "base_uri": "https://localhost:8080/"
        },
        "id": "GkVXl4F48Z4-",
        "outputId": "d1a87626-cf49-4ab1-d689-09cd3740bf69"
      },
      "execution_count": null,
      "outputs": [
        {
          "output_type": "stream",
          "name": "stdout",
          "text": [
            "0.42536263283855186\n"
          ]
        }
      ]
    }
  ]
}